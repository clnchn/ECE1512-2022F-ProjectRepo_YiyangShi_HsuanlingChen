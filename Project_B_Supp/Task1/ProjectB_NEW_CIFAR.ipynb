{
  "nbformat": 4,
  "nbformat_minor": 0,
  "metadata": {
    "colab": {
      "provenance": [],
      "collapsed_sections": [
        "2SNB0KZP4flH"
      ],
      "include_colab_link": true
    },
    "kernelspec": {
      "name": "python3",
      "display_name": "Python 3"
    },
    "language_info": {
      "name": "python"
    },
    "accelerator": "GPU",
    "gpuClass": "standard"
  },
  "cells": [
    {
      "cell_type": "markdown",
      "metadata": {
        "id": "view-in-github",
        "colab_type": "text"
      },
      "source": [
        "<a href=\"https://colab.research.google.com/github/hl5chen/ECE1512-2022F-ProjectRepo_YiyangShi_HsuanlingChen/blob/main/Project_B_Supp/ProjectB_NEW_CIFAR.ipynb\" target=\"_parent\"><img src=\"https://colab.research.google.com/assets/colab-badge.svg\" alt=\"Open In Colab\"/></a>"
      ]
    },
    {
      "cell_type": "code",
      "execution_count": 2,
      "metadata": {
        "colab": {
          "base_uri": "https://localhost:8080/"
        },
        "id": "9oxO5ywfAd8q",
        "outputId": "cca0d989-ea0c-4f96-d5ca-f9834357b808"
      },
      "outputs": [
        {
          "output_type": "stream",
          "name": "stdout",
          "text": [
            "Looking in indexes: https://pypi.org/simple, https://us-python.pkg.dev/colab-wheels/public/simple/\n",
            "Collecting import_ipynb\n",
            "  Downloading import_ipynb-0.1.4-py3-none-any.whl (4.1 kB)\n",
            "Requirement already satisfied: nbformat in /usr/local/lib/python3.7/dist-packages (from import_ipynb) (5.7.0)\n",
            "Requirement already satisfied: IPython in /usr/local/lib/python3.7/dist-packages (from import_ipynb) (7.9.0)\n",
            "Requirement already satisfied: backcall in /usr/local/lib/python3.7/dist-packages (from IPython->import_ipynb) (0.2.0)\n",
            "Requirement already satisfied: pickleshare in /usr/local/lib/python3.7/dist-packages (from IPython->import_ipynb) (0.7.5)\n",
            "Requirement already satisfied: pygments in /usr/local/lib/python3.7/dist-packages (from IPython->import_ipynb) (2.6.1)\n",
            "Requirement already satisfied: pexpect in /usr/local/lib/python3.7/dist-packages (from IPython->import_ipynb) (4.8.0)\n",
            "Collecting jedi>=0.10\n",
            "  Downloading jedi-0.18.2-py2.py3-none-any.whl (1.6 MB)\n",
            "\u001b[K     |████████████████████████████████| 1.6 MB 4.4 MB/s \n",
            "\u001b[?25hRequirement already satisfied: prompt-toolkit<2.1.0,>=2.0.0 in /usr/local/lib/python3.7/dist-packages (from IPython->import_ipynb) (2.0.10)\n",
            "Requirement already satisfied: traitlets>=4.2 in /usr/local/lib/python3.7/dist-packages (from IPython->import_ipynb) (5.1.1)\n",
            "Requirement already satisfied: decorator in /usr/local/lib/python3.7/dist-packages (from IPython->import_ipynb) (4.4.2)\n",
            "Requirement already satisfied: setuptools>=18.5 in /usr/local/lib/python3.7/dist-packages (from IPython->import_ipynb) (57.4.0)\n",
            "Requirement already satisfied: parso<0.9.0,>=0.8.0 in /usr/local/lib/python3.7/dist-packages (from jedi>=0.10->IPython->import_ipynb) (0.8.3)\n",
            "Requirement already satisfied: six>=1.9.0 in /usr/local/lib/python3.7/dist-packages (from prompt-toolkit<2.1.0,>=2.0.0->IPython->import_ipynb) (1.15.0)\n",
            "Requirement already satisfied: wcwidth in /usr/local/lib/python3.7/dist-packages (from prompt-toolkit<2.1.0,>=2.0.0->IPython->import_ipynb) (0.2.5)\n",
            "Requirement already satisfied: fastjsonschema in /usr/local/lib/python3.7/dist-packages (from nbformat->import_ipynb) (2.16.2)\n",
            "Requirement already satisfied: importlib-metadata>=3.6 in /usr/local/lib/python3.7/dist-packages (from nbformat->import_ipynb) (4.13.0)\n",
            "Requirement already satisfied: jupyter-core in /usr/local/lib/python3.7/dist-packages (from nbformat->import_ipynb) (4.11.2)\n",
            "Requirement already satisfied: jsonschema>=2.6 in /usr/local/lib/python3.7/dist-packages (from nbformat->import_ipynb) (4.3.3)\n",
            "Requirement already satisfied: zipp>=0.5 in /usr/local/lib/python3.7/dist-packages (from importlib-metadata>=3.6->nbformat->import_ipynb) (3.10.0)\n",
            "Requirement already satisfied: typing-extensions>=3.6.4 in /usr/local/lib/python3.7/dist-packages (from importlib-metadata>=3.6->nbformat->import_ipynb) (4.1.1)\n",
            "Requirement already satisfied: pyrsistent!=0.17.0,!=0.17.1,!=0.17.2,>=0.14.0 in /usr/local/lib/python3.7/dist-packages (from jsonschema>=2.6->nbformat->import_ipynb) (0.19.2)\n",
            "Requirement already satisfied: attrs>=17.4.0 in /usr/local/lib/python3.7/dist-packages (from jsonschema>=2.6->nbformat->import_ipynb) (22.1.0)\n",
            "Requirement already satisfied: importlib-resources>=1.4.0 in /usr/local/lib/python3.7/dist-packages (from jsonschema>=2.6->nbformat->import_ipynb) (5.10.0)\n",
            "Requirement already satisfied: ptyprocess>=0.5 in /usr/local/lib/python3.7/dist-packages (from pexpect->IPython->import_ipynb) (0.7.0)\n",
            "Installing collected packages: jedi, import-ipynb\n",
            "Successfully installed import-ipynb-0.1.4 jedi-0.18.2\n"
          ]
        }
      ],
      "source": [
        "!pip install import_ipynb\n",
        "import import_ipynb"
      ]
    },
    {
      "cell_type": "code",
      "source": [
        "from google.colab import drive\n",
        "drive.mount('/content/drive')"
      ],
      "metadata": {
        "colab": {
          "base_uri": "https://localhost:8080/"
        },
        "id": "qn4Upq8n2KT8",
        "outputId": "a5c83462-e5d3-4b17-9cc2-2e5641a538bf"
      },
      "execution_count": 3,
      "outputs": [
        {
          "output_type": "stream",
          "name": "stdout",
          "text": [
            "Mounted at /content/drive\n"
          ]
        }
      ]
    },
    {
      "cell_type": "code",
      "source": [
        "cd drive/MyDrive/Colab Notebooks/ECE1512_F22/ProjectB"
      ],
      "metadata": {
        "colab": {
          "base_uri": "https://localhost:8080/"
        },
        "id": "pBVNWSyF2K7z",
        "outputId": "65d92f80-cb39-43fa-9245-b15b14cef9f3"
      },
      "execution_count": 4,
      "outputs": [
        {
          "output_type": "stream",
          "name": "stdout",
          "text": [
            "/content/drive/MyDrive/Colab Notebooks/ECE1512_F22/ProjectB\n"
          ]
        }
      ]
    },
    {
      "cell_type": "markdown",
      "source": [
        "## Test original dataset on model to establish upper bound"
      ],
      "metadata": {
        "id": "ZpTlxrDo4kR9"
      }
    },
    {
      "cell_type": "code",
      "source": [
        "from utils import get_loops, get_dataset, get_network, get_eval_pool, evaluate_synset, get_daparam, match_loss, get_time, TensorDataset, epoch, DiffAugment, ParamDiffAug\n",
        "import numpy as np\n",
        "import torch\n",
        "import torch.nn as nn\n",
        "from torchvision.utils import save_image\n",
        "\n",
        "class myArgs:\n",
        "  def __init__(self):\n",
        "    self.method = 'DC'\n",
        "    self.dataset = 'CIFAR10'\n",
        "    self.model = 'ConvNet'\n",
        "    self.ipc = 10\n",
        "    self.eval_mode = 'S'\n",
        "    self.num_exp = 1\n",
        "    self.num_eval = 5\n",
        "    self.epoch_eval_train = 300\n",
        "    self.Iteration = 100\n",
        "    self.lr_img = 0.1\n",
        "    self.lr_net = 0.01\n",
        "    self.batch_real = 256\n",
        "    self.batch_train = 256\n",
        "    self.init = 'real'\n",
        "    self.dsa_strategy = 'None'\n",
        "    self.data_path = 'data'\n",
        "    self.save_path = 'result'\n",
        "    self.dis_metric = 'ours'\n",
        "\n",
        "args = myArgs()\n",
        "args.outer_loop, args.inner_loop = get_loops(args.ipc)\n",
        "args.device = 'cuda' if torch.cuda.is_available() else 'cpu'\n",
        "args.dsa_param = ParamDiffAug()\n",
        "args.dsa = True if args.method == 'DSA' else False\n",
        "\n",
        "\n",
        "channel, im_size, num_classes, class_names, mean, std, dst_train, dst_test, testloader = get_dataset(args.dataset, args.data_path)\n",
        "\n",
        "net = get_network(args.model, channel, num_classes, im_size).to(args.device)\n",
        "\n",
        "net.train()\n",
        "optimizer_net = torch.optim.SGD(net.parameters(), lr=0.01)  # optimizer_img for synthetic data\n",
        "optimizer_net.zero_grad()\n",
        "\n",
        "criterion = nn.CrossEntropyLoss().to(args.device)\n",
        "\n",
        "num_epochs = 20\n",
        "\n",
        "trainloader = torch.utils.data.DataLoader(dst_train, batch_size=args.batch_train, shuffle=True, num_workers=0)\n",
        "scheduler = torch.optim.lr_scheduler.CosineAnnealingLR(optimizer_net, num_epochs)\n",
        "\n",
        "\n",
        "for i in range(num_epochs):\n",
        "  loss_avg, acc_avg = epoch('train', trainloader, net, optimizer_net, criterion, args, aug = True if args.dsa else False)\n",
        "  for param_group in optimizer_net.param_groups:\n",
        "    print(\"Current learning rate is: {}\".format(param_group['lr']))\n",
        "\n",
        "  print(\"Epoch[{}/{}]: Loss: {:.4f}, ACC: {:.4f}\".format(i+1,num_epochs, loss_avg, acc_avg))\n",
        "  scheduler.step()\n",
        "\n"
      ],
      "metadata": {
        "colab": {
          "base_uri": "https://localhost:8080/"
        },
        "id": "WHBv-XbamgWc",
        "outputId": "9164ef0d-de41-49ce-d7ec-b9786b20dcf6"
      },
      "execution_count": 5,
      "outputs": [
        {
          "output_type": "stream",
          "name": "stdout",
          "text": [
            "Files already downloaded and verified\n",
            "Files already downloaded and verified\n",
            "Current learning rate is: 0.01\n",
            "Epoch[1/20]: Loss: 1.8086, ACC: 0.3899\n",
            "Current learning rate is: 0.009938441702975689\n",
            "Epoch[2/20]: Loss: 1.4336, ACC: 0.5174\n",
            "Current learning rate is: 0.009755282581475769\n",
            "Epoch[3/20]: Loss: 1.2545, ACC: 0.5771\n",
            "Current learning rate is: 0.00945503262094184\n",
            "Epoch[4/20]: Loss: 1.1425, ACC: 0.6143\n",
            "Current learning rate is: 0.009045084971874739\n",
            "Epoch[5/20]: Loss: 1.0573, ACC: 0.6441\n",
            "Current learning rate is: 0.008535533905932738\n",
            "Epoch[6/20]: Loss: 0.9972, ACC: 0.6647\n",
            "Current learning rate is: 0.007938926261462366\n",
            "Epoch[7/20]: Loss: 0.9464, ACC: 0.6819\n",
            "Current learning rate is: 0.007269952498697735\n",
            "Epoch[8/20]: Loss: 0.9055, ACC: 0.6961\n",
            "Current learning rate is: 0.006545084971874738\n",
            "Epoch[9/20]: Loss: 0.8710, ACC: 0.7081\n",
            "Current learning rate is: 0.005782172325201155\n",
            "Epoch[10/20]: Loss: 0.8387, ACC: 0.7197\n",
            "Current learning rate is: 0.005\n",
            "Epoch[11/20]: Loss: 0.8159, ACC: 0.7277\n",
            "Current learning rate is: 0.004217827674798847\n",
            "Epoch[12/20]: Loss: 0.7924, ACC: 0.7373\n",
            "Current learning rate is: 0.0034549150281252636\n",
            "Epoch[13/20]: Loss: 0.7725, ACC: 0.7437\n",
            "Current learning rate is: 0.0027300475013022664\n",
            "Epoch[14/20]: Loss: 0.7568, ACC: 0.7500\n",
            "Current learning rate is: 0.0020610737385376348\n",
            "Epoch[15/20]: Loss: 0.7447, ACC: 0.7534\n",
            "Current learning rate is: 0.0014644660940672626\n",
            "Epoch[16/20]: Loss: 0.7344, ACC: 0.7589\n",
            "Current learning rate is: 0.0009549150281252633\n",
            "Epoch[17/20]: Loss: 0.7273, ACC: 0.7609\n",
            "Current learning rate is: 0.0005449673790581611\n",
            "Epoch[18/20]: Loss: 0.7219, ACC: 0.7635\n",
            "Current learning rate is: 0.00024471741852423234\n",
            "Epoch[19/20]: Loss: 0.7187, ACC: 0.7652\n",
            "Current learning rate is: 6.15582970243117e-05\n",
            "Epoch[20/20]: Loss: 0.7169, ACC: 0.7651\n"
          ]
        }
      ]
    },
    {
      "cell_type": "code",
      "source": [
        "testloader = torch.utils.data.DataLoader(dst_test, batch_size=args.batch_train, shuffle=True, num_workers=0)\n",
        "net.eval()\n",
        "loss_avg, acc_avg = epoch('test', testloader, net, optimizer_net, criterion, args, aug = True if args.dsa else False)\n",
        "\n",
        "print(\"Test set: Loss: {:.4f}, ACC: {:.4f}\".format(loss_avg, acc_avg))"
      ],
      "metadata": {
        "colab": {
          "base_uri": "https://localhost:8080/"
        },
        "id": "NvOyZZLezejj",
        "outputId": "fb618cf9-6506-4bf9-c0f0-ff58593c09f6"
      },
      "execution_count": 5,
      "outputs": [
        {
          "output_type": "stream",
          "name": "stdout",
          "text": [
            "Test set: Loss: 0.8286, ACC: 0.7234\n"
          ]
        }
      ]
    },
    {
      "cell_type": "markdown",
      "source": [
        "## Dataset distillation with matching gradient "
      ],
      "metadata": {
        "id": "2SNB0KZP4flH"
      }
    },
    {
      "cell_type": "code",
      "source": [
        "import os\n",
        "import time\n",
        "import copy\n",
        "import argparse\n",
        "import numpy as np\n",
        "import torch\n",
        "import torch.nn as nn\n",
        "from torchvision.utils import save_image\n",
        "from utils import get_loops, get_dataset, get_network, get_eval_pool, evaluate_synset, get_daparam, match_loss, get_time, TensorDataset, epoch, DiffAugment, ParamDiffAug\n",
        "\n",
        "\n",
        "class myArgs:\n",
        "  def __init__(self):\n",
        "    self.method = 'DC'\n",
        "    self.dataset = 'CIFAR10'\n",
        "    self.model = 'ConvNet'\n",
        "    self.ipc = 10\n",
        "    self.eval_mode = 'S'\n",
        "    self.num_exp = 1\n",
        "    self.num_eval = 5\n",
        "    self.epoch_eval_train = 300\n",
        "    self.Iteration = 100\n",
        "    self.lr_img = 0.1\n",
        "    self.lr_net = 0.01\n",
        "    self.batch_real = 256\n",
        "    self.batch_train = 256\n",
        "    self.init = 'noise'\n",
        "    self.dsa_strategy = 'None'\n",
        "    self.data_path = 'data'\n",
        "    self.save_path = 'result'\n",
        "    self.dis_metric = 'ours'\n",
        "\n",
        "def main():\n",
        "\n",
        "    # parser = argparse.ArgumentParser(description='Parameter Processing')\n",
        "    # parser.add_argument('--method', type=str, default='DC', help='DC/DSA')\n",
        "    # parser.add_argument('--dataset', type=str, default='CIFAR10', help='dataset')\n",
        "    # parser.add_argument('--model', type=str, default='ConvNet', help='model')\n",
        "    # parser.add_argument('--ipc', type=int, default=1, help='image(s) per class')\n",
        "    # parser.add_argument('--eval_mode', type=str, default='S', help='eval_mode') # S: the same to training model, M: multi architectures,  W: net width, D: net depth, A: activation function, P: pooling layer, N: normalization layer,\n",
        "    # parser.add_argument('--num_exp', type=int, default=5, help='the number of experiments')\n",
        "    # parser.add_argument('--num_eval', type=int, default=20, help='the number of evaluating randomly initialized models')\n",
        "    # parser.add_argument('--epoch_eval_train', type=int, default=300, help='epochs to train a model with synthetic data')\n",
        "    # parser.add_argument('--Iteration', type=int, default=1000, help='training iterations')\n",
        "    # parser.add_argument('--lr_img', type=float, default=0.1, help='learning rate for updating synthetic images')\n",
        "    # parser.add_argument('--lr_net', type=float, default=0.01, help='learning rate for updating network parameters')\n",
        "    # parser.add_argument('--batch_real', type=int, default=256, help='batch size for real data')\n",
        "    # parser.add_argument('--batch_train', type=int, default=256, help='batch size for training networks')\n",
        "    # parser.add_argument('--init', type=str, default='noise', help='noise/real: initialize synthetic images from random noise or randomly sampled real images.')\n",
        "    # parser.add_argument('--dsa_strategy', type=str, default='None', help='differentiable Siamese augmentation strategy')\n",
        "    # parser.add_argument('--data_path', type=str, default='data', help='dataset path')\n",
        "    # parser.add_argument('--save_path', type=str, default='result', help='path to save results')\n",
        "    # parser.add_argument('--dis_metric', type=str, default='ours', help='distance metric')\n",
        "\n",
        "    # args = parser.parse_args()\n",
        "    args = myArgs()\n",
        "    args.outer_loop, args.inner_loop = get_loops(args.ipc)\n",
        "    args.device = 'cuda' if torch.cuda.is_available() else 'cpu'\n",
        "    args.dsa_param = ParamDiffAug()\n",
        "    args.dsa = True if args.method == 'DSA' else False\n",
        "\n",
        "\n",
        "    if not os.path.exists(args.data_path):\n",
        "        os.mkdir(args.data_path)\n",
        "\n",
        "    if not os.path.exists(args.save_path):\n",
        "        os.mkdir(args.save_path)\n",
        "\n",
        "    eval_it_pool = np.arange(0, args.Iteration+1, 20).tolist() if args.eval_mode == 'S' or args.eval_mode == 'SS' else [args.Iteration] # The list of iterations when we evaluate models and record results.\n",
        "    print('eval_it_pool: ', eval_it_pool)\n",
        "    channel, im_size, num_classes, class_names, mean, std, dst_train, dst_test, testloader = get_dataset(args.dataset, args.data_path)\n",
        "    model_eval_pool = get_eval_pool(args.eval_mode, args.model, args.model)\n",
        "\n",
        "\n",
        "    accs_all_exps = dict() # record performances of all experiments\n",
        "    for key in model_eval_pool:\n",
        "        accs_all_exps[key] = []\n",
        "\n",
        "    data_save = []\n",
        "\n",
        "\n",
        "    for exp in range(args.num_exp):\n",
        "        print('\\n================== Exp %d ==================\\n '%exp)\n",
        "        print('Hyper-parameters: \\n', args.__dict__)\n",
        "        print('Evaluation model pool: ', model_eval_pool)\n",
        "\n",
        "        ''' organize the real dataset '''\n",
        "        images_all = []\n",
        "        labels_all = []\n",
        "        indices_class = [[] for c in range(num_classes)]\n",
        "\n",
        "        images_all = [torch.unsqueeze(dst_train[i][0], dim=0) for i in range(len(dst_train))]\n",
        "        labels_all = [dst_train[i][1] for i in range(len(dst_train))]\n",
        "        for i, lab in enumerate(labels_all):\n",
        "            indices_class[lab].append(i)\n",
        "        images_all = torch.cat(images_all, dim=0).to(args.device)\n",
        "        labels_all = torch.tensor(labels_all, dtype=torch.long, device=args.device)\n",
        "\n",
        "        for c in range(num_classes):\n",
        "            print('class c = %d: %d real images'%(c, len(indices_class[c])))\n",
        "\n",
        "        def get_images(c, n): # get random n images from class c\n",
        "            idx_shuffle = np.random.permutation(indices_class[c])[:n]\n",
        "            return images_all[idx_shuffle]\n",
        "\n",
        "        for ch in range(channel):\n",
        "            print('real images channel %d, mean = %.4f, std = %.4f'%(ch, torch.mean(images_all[:, ch]), torch.std(images_all[:, ch])))\n",
        "\n",
        "\n",
        "        ''' initialize the synthetic data '''\n",
        "        image_syn = torch.randn(size=(num_classes*args.ipc, channel, im_size[0], im_size[1]), dtype=torch.float, requires_grad=True, device=args.device)\n",
        "        label_syn = torch.tensor([np.ones(args.ipc)*i for i in range(num_classes)], dtype=torch.long, requires_grad=False, device=args.device).view(-1) # [0,0,0, 1,1,1, ..., 9,9,9]\n",
        "\n",
        "        if args.init == 'real':\n",
        "            print('initialize synthetic data from random real images')\n",
        "            for c in range(num_classes):\n",
        "                image_syn.data[c*args.ipc:(c+1)*args.ipc] = get_images(c, args.ipc).detach().data\n",
        "        else:\n",
        "            print('initialize synthetic data from random noise')\n",
        "\n",
        "\n",
        "        ''' training '''\n",
        "        optimizer_img = torch.optim.SGD([image_syn, ], lr=args.lr_img, momentum=0.5) # optimizer_img for synthetic data\n",
        "        optimizer_img.zero_grad()\n",
        "        criterion = nn.CrossEntropyLoss().to(args.device)\n",
        "        print('%s training begins'%get_time())\n",
        "\n",
        "        for it in range(args.Iteration+1):\n",
        "\n",
        "            ''' Evaluate synthetic data '''\n",
        "            if it in eval_it_pool:\n",
        "                for model_eval in model_eval_pool:\n",
        "                    print('-------------------------\\nEvaluation\\nmodel_train = %s, model_eval = %s, iteration = %d'%(args.model, model_eval, it))\n",
        "                    if args.dsa:\n",
        "                        args.epoch_eval_train = 1000\n",
        "                        args.dc_aug_param = None\n",
        "                        print('DSA augmentation strategy: \\n', args.dsa_strategy)\n",
        "                        print('DSA augmentation parameters: \\n', args.dsa_param.__dict__)\n",
        "                    else:\n",
        "                        args.dc_aug_param = get_daparam(args.dataset, args.model, model_eval, args.ipc) # This augmentation parameter set is only for DC method. It will be muted when args.dsa is True.\n",
        "                        print('DC augmentation parameters: \\n', args.dc_aug_param)\n",
        "\n",
        "                    if args.dsa or args.dc_aug_param['strategy'] != 'none':\n",
        "                        args.epoch_eval_train = 1000  # Training with data augmentation needs more epochs.\n",
        "                    else:\n",
        "                        args.epoch_eval_train = 300\n",
        "\n",
        "                    accs = []\n",
        "                    for it_eval in range(args.num_eval):\n",
        "                        net_eval = get_network(model_eval, channel, num_classes, im_size).to(args.device) # get a random model\n",
        "                        image_syn_eval, label_syn_eval = copy.deepcopy(image_syn.detach()), copy.deepcopy(label_syn.detach()) # avoid any unaware modification\n",
        "                        _, acc_train, acc_test = evaluate_synset(it_eval, net_eval, image_syn_eval, label_syn_eval, testloader, args)\n",
        "                        accs.append(acc_test)\n",
        "                    print('Evaluate %d random %s, mean = %.4f std = %.4f\\n-------------------------'%(len(accs), model_eval, np.mean(accs), np.std(accs)))\n",
        "\n",
        "                    if it == args.Iteration: # record the final results\n",
        "                        accs_all_exps[model_eval] += accs\n",
        "\n",
        "                ''' visualize and save '''\n",
        "                save_name = os.path.join(args.save_path, 'vis_%s_%s_%s_%dipc_exp%d_iter%d.png'%(args.method, args.dataset, args.model, args.ipc, exp, it))\n",
        "                image_syn_vis = copy.deepcopy(image_syn.detach().cpu())\n",
        "                for ch in range(channel):\n",
        "                    image_syn_vis[:, ch] = image_syn_vis[:, ch]  * std[ch] + mean[ch]\n",
        "                image_syn_vis[image_syn_vis<0] = 0.0\n",
        "                image_syn_vis[image_syn_vis>1] = 1.0\n",
        "                save_image(image_syn_vis, save_name, nrow=args.ipc) # Trying normalize = True/False may get better visual effects.\n",
        "\n",
        "\n",
        "            ''' Train synthetic data '''\n",
        "            net = get_network(args.model, channel, num_classes, im_size).to(args.device) # get a random model\n",
        "            net.train()\n",
        "            net_parameters = list(net.parameters())\n",
        "            optimizer_net = torch.optim.SGD(net.parameters(), lr=args.lr_net)  # optimizer_img for synthetic data\n",
        "            optimizer_net.zero_grad()\n",
        "            loss_avg = 0\n",
        "            args.dc_aug_param = None  # Mute the DC augmentation when learning synthetic data (in inner-loop epoch function) in oder to be consistent with DC paper.\n",
        "\n",
        "\n",
        "            for ol in range(args.outer_loop):\n",
        "\n",
        "                ''' freeze the running mu and sigma for BatchNorm layers '''\n",
        "                # Synthetic data batch, e.g. only 1 image/batch, is too small to obtain stable mu and sigma.\n",
        "                # So, we calculate and freeze mu and sigma for BatchNorm layer with real data batch ahead.\n",
        "                # This would make the training with BatchNorm layers easier.\n",
        "\n",
        "                BN_flag = False\n",
        "                BNSizePC = 16  # for batch normalization\n",
        "                for module in net.modules():\n",
        "                    if 'BatchNorm' in module._get_name(): #BatchNorm\n",
        "                        BN_flag = True\n",
        "                if BN_flag:\n",
        "                    img_real = torch.cat([get_images(c, BNSizePC) for c in range(num_classes)], dim=0)\n",
        "                    net.train() # for updating the mu, sigma of BatchNorm\n",
        "                    output_real = net(img_real) # get running mu, sigma\n",
        "                    for module in net.modules():\n",
        "                        if 'BatchNorm' in module._get_name():  #BatchNorm\n",
        "                            module.eval() # fix mu and sigma of every BatchNorm layer\n",
        "\n",
        "\n",
        "                ''' update synthetic data '''\n",
        "                loss = torch.tensor(0.0).to(args.device)\n",
        "                for c in range(num_classes):\n",
        "                    img_real = get_images(c, args.batch_real)\n",
        "                    lab_real = torch.ones((img_real.shape[0],), device=args.device, dtype=torch.long) * c\n",
        "                    img_syn = image_syn[c*args.ipc:(c+1)*args.ipc].reshape((args.ipc, channel, im_size[0], im_size[1]))\n",
        "                    lab_syn = torch.ones((args.ipc,), device=args.device, dtype=torch.long) * c\n",
        "\n",
        "                    if args.dsa:\n",
        "                        seed = int(time.time() * 1000) % 100000\n",
        "                        img_real = DiffAugment(img_real, args.dsa_strategy, seed=seed, param=args.dsa_param)\n",
        "                        img_syn = DiffAugment(img_syn, args.dsa_strategy, seed=seed, param=args.dsa_param)\n",
        "\n",
        "                    output_real = net(img_real)\n",
        "                    loss_real = criterion(output_real, lab_real)\n",
        "                    gw_real = torch.autograd.grad(loss_real, net_parameters)\n",
        "                    gw_real = list((_.detach().clone() for _ in gw_real))\n",
        "\n",
        "                    output_syn = net(img_syn)\n",
        "                    loss_syn = criterion(output_syn, lab_syn)\n",
        "                    gw_syn = torch.autograd.grad(loss_syn, net_parameters, create_graph=True)\n",
        "\n",
        "                    loss += match_loss(gw_syn, gw_real, args)\n",
        "\n",
        "                optimizer_img.zero_grad()\n",
        "                loss.backward()\n",
        "                optimizer_img.step()\n",
        "                loss_avg += loss.item()\n",
        "\n",
        "                if ol == args.outer_loop - 1:\n",
        "                    break\n",
        "\n",
        "\n",
        "                ''' update network '''\n",
        "                image_syn_train, label_syn_train = copy.deepcopy(image_syn.detach()), copy.deepcopy(label_syn.detach())  # avoid any unaware modification\n",
        "                dst_syn_train = TensorDataset(image_syn_train, label_syn_train)\n",
        "                trainloader = torch.utils.data.DataLoader(dst_syn_train, batch_size=args.batch_train, shuffle=True, num_workers=0)\n",
        "                for il in range(args.inner_loop):\n",
        "                    epoch('train', trainloader, net, optimizer_net, criterion, args, aug = True if args.dsa else False)\n",
        "\n",
        "\n",
        "            loss_avg /= (num_classes*args.outer_loop)\n",
        "\n",
        "            if it%10 == 0:\n",
        "                print('%s iter = %04d, loss = %.4f' % (get_time(), it, loss_avg))\n",
        "\n",
        "            if it == args.Iteration: # only record the final results\n",
        "                data_save.append([copy.deepcopy(image_syn.detach().cpu()), copy.deepcopy(label_syn.detach().cpu())])\n",
        "                torch.save({'data': data_save, 'accs_all_exps': accs_all_exps, }, os.path.join(args.save_path, 'res_%s_%s_%s_%dipc.pt'%(args.method, args.dataset, args.model, args.ipc)))\n",
        "\n",
        "\n",
        "    print('\\n==================== Final Results ====================\\n')\n",
        "    for key in model_eval_pool:\n",
        "        accs = accs_all_exps[key]\n",
        "        print('Run %d experiments, train on %s, evaluate %d random %s, mean  = %.2f%%  std = %.2f%%'%(args.num_exp, args.model, len(accs), key, np.mean(accs)*100, np.std(accs)*100))\n"
      ],
      "metadata": {
        "id": "2K3eXSt2A1Fi"
      },
      "execution_count": 6,
      "outputs": []
    },
    {
      "cell_type": "markdown",
      "source": [],
      "metadata": {
        "id": "CLowq9_QBxbm"
      }
    },
    {
      "cell_type": "code",
      "source": [
        "main()"
      ],
      "metadata": {
        "colab": {
          "base_uri": "https://localhost:8080/"
        },
        "id": "DViJSBhyEF-j",
        "outputId": "d58dd22f-90e4-4fe1-ca4c-612e05f60b3c"
      },
      "execution_count": 7,
      "outputs": [
        {
          "metadata": {
            "tags": null
          },
          "name": "stdout",
          "output_type": "stream",
          "text": [
            "eval_it_pool:  [0, 20, 40, 60, 80, 100]\n",
            "Files already downloaded and verified\n",
            "Files already downloaded and verified\n",
            "\n",
            "================== Exp 0 ==================\n",
            " \n",
            "Hyper-parameters: \n",
            " {'method': 'DC', 'dataset': 'CIFAR10', 'model': 'ConvNet', 'ipc': 10, 'eval_mode': 'S', 'num_exp': 1, 'num_eval': 5, 'epoch_eval_train': 300, 'Iteration': 100, 'lr_img': 0.1, 'lr_net': 0.01, 'batch_real': 256, 'batch_train': 256, 'init': 'noise', 'dsa_strategy': 'None', 'data_path': 'data', 'save_path': 'result', 'dis_metric': 'ours', 'outer_loop': 10, 'inner_loop': 50, 'device': 'cuda', 'dsa_param': <utils.ParamDiffAug object at 0x7f8308cbcc50>, 'dsa': False}\n",
            "Evaluation model pool:  ['ConvNet']\n",
            "class c = 0: 5000 real images\n",
            "class c = 1: 5000 real images\n",
            "class c = 2: 5000 real images\n",
            "class c = 3: 5000 real images\n",
            "class c = 4: 5000 real images\n",
            "class c = 5: 5000 real images\n",
            "class c = 6: 5000 real images\n",
            "class c = 7: 5000 real images\n",
            "class c = 8: 5000 real images\n",
            "class c = 9: 5000 real images\n",
            "real images channel 0, mean = -0.0000, std = 1.2211\n",
            "real images channel 1, mean = -0.0002, std = 1.2211\n",
            "real images channel 2, mean = 0.0002, std = 1.3014\n",
            "initialize synthetic data from random noise\n",
            "[2022-11-28 15:35:24] training begins\n",
            "-------------------------\n",
            "Evaluation\n",
            "model_train = ConvNet, model_eval = ConvNet, iteration = 0\n",
            "DC augmentation parameters: \n",
            " {'crop': 4, 'scale': 0.2, 'rotate': 45, 'noise': 0.001, 'strategy': 'none'}\n"
          ]
        },
        {
          "metadata": {
            "tags": null
          },
          "name": "stderr",
          "output_type": "stream",
          "text": [
            "/usr/local/lib/python3.7/dist-packages/ipykernel_launcher.py:112: UserWarning: Creating a tensor from a list of numpy.ndarrays is extremely slow. Please consider converting the list to a single numpy.ndarray with numpy.array() before converting to a tensor. (Triggered internally at  ../torch/csrc/utils/tensor_new.cpp:201.)\n"
          ]
        },
        {
          "output_type": "stream",
          "name": "stdout",
          "text": [
            "[2022-11-28 15:35:30] Evaluate_00: epoch = 0300 train time = 3 s train loss = 0.003668 train acc = 1.0000, test acc = 0.1075\n",
            "[2022-11-28 15:35:37] Evaluate_01: epoch = 0300 train time = 3 s train loss = 0.003676 train acc = 1.0000, test acc = 0.0826\n",
            "[2022-11-28 15:35:43] Evaluate_02: epoch = 0300 train time = 3 s train loss = 0.003784 train acc = 1.0000, test acc = 0.1050\n",
            "[2022-11-28 15:35:49] Evaluate_03: epoch = 0300 train time = 3 s train loss = 0.003776 train acc = 1.0000, test acc = 0.0990\n",
            "[2022-11-28 15:35:55] Evaluate_04: epoch = 0300 train time = 3 s train loss = 0.003880 train acc = 1.0000, test acc = 0.0911\n",
            "Evaluate 5 random ConvNet, mean = 0.0970 std = 0.0092\n",
            "-------------------------\n",
            "[2022-11-28 15:36:06] iter = 0000, loss = 225.0190\n",
            "[2022-11-28 15:37:43] iter = 0010, loss = 148.2568\n",
            "-------------------------\n",
            "Evaluation\n",
            "model_train = ConvNet, model_eval = ConvNet, iteration = 20\n",
            "DC augmentation parameters: \n",
            " {'crop': 4, 'scale': 0.2, 'rotate': 45, 'noise': 0.001, 'strategy': 'none'}\n",
            "[2022-11-28 15:39:17] Evaluate_00: epoch = 0300 train time = 3 s train loss = 0.004035 train acc = 1.0000, test acc = 0.3448\n",
            "[2022-11-28 15:39:24] Evaluate_01: epoch = 0300 train time = 3 s train loss = 0.003945 train acc = 1.0000, test acc = 0.3480\n",
            "[2022-11-28 15:39:30] Evaluate_02: epoch = 0300 train time = 3 s train loss = 0.004099 train acc = 1.0000, test acc = 0.3593\n",
            "[2022-11-28 15:39:36] Evaluate_03: epoch = 0300 train time = 3 s train loss = 0.004107 train acc = 1.0000, test acc = 0.3470\n",
            "[2022-11-28 15:39:42] Evaluate_04: epoch = 0300 train time = 3 s train loss = 0.004051 train acc = 1.0000, test acc = 0.3506\n",
            "Evaluate 5 random ConvNet, mean = 0.3499 std = 0.0050\n",
            "-------------------------\n",
            "[2022-11-28 15:39:53] iter = 0020, loss = 140.2820\n",
            "[2022-11-28 15:41:30] iter = 0030, loss = 134.4994\n",
            "-------------------------\n",
            "Evaluation\n",
            "model_train = ConvNet, model_eval = ConvNet, iteration = 40\n",
            "DC augmentation parameters: \n",
            " {'crop': 4, 'scale': 0.2, 'rotate': 45, 'noise': 0.001, 'strategy': 'none'}\n",
            "[2022-11-28 15:43:04] Evaluate_00: epoch = 0300 train time = 3 s train loss = 0.004266 train acc = 1.0000, test acc = 0.3626\n",
            "[2022-11-28 15:43:11] Evaluate_01: epoch = 0300 train time = 3 s train loss = 0.004417 train acc = 1.0000, test acc = 0.3636\n",
            "[2022-11-28 15:43:17] Evaluate_02: epoch = 0300 train time = 3 s train loss = 0.004288 train acc = 1.0000, test acc = 0.3674\n",
            "[2022-11-28 15:43:23] Evaluate_03: epoch = 0300 train time = 3 s train loss = 0.004352 train acc = 1.0000, test acc = 0.3660\n",
            "[2022-11-28 15:43:30] Evaluate_04: epoch = 0300 train time = 3 s train loss = 0.004179 train acc = 1.0000, test acc = 0.3688\n",
            "Evaluate 5 random ConvNet, mean = 0.3657 std = 0.0023\n",
            "-------------------------\n",
            "[2022-11-28 15:43:40] iter = 0040, loss = 134.6502\n",
            "[2022-11-28 15:45:18] iter = 0050, loss = 126.0306\n",
            "-------------------------\n",
            "Evaluation\n",
            "model_train = ConvNet, model_eval = ConvNet, iteration = 60\n",
            "DC augmentation parameters: \n",
            " {'crop': 4, 'scale': 0.2, 'rotate': 45, 'noise': 0.001, 'strategy': 'none'}\n",
            "[2022-11-28 15:46:52] Evaluate_00: epoch = 0300 train time = 3 s train loss = 0.004754 train acc = 1.0000, test acc = 0.3614\n",
            "[2022-11-28 15:46:58] Evaluate_01: epoch = 0300 train time = 3 s train loss = 0.004458 train acc = 1.0000, test acc = 0.3755\n",
            "[2022-11-28 15:47:04] Evaluate_02: epoch = 0300 train time = 3 s train loss = 0.004519 train acc = 1.0000, test acc = 0.3707\n",
            "[2022-11-28 15:47:10] Evaluate_03: epoch = 0300 train time = 3 s train loss = 0.004427 train acc = 1.0000, test acc = 0.3707\n",
            "[2022-11-28 15:47:17] Evaluate_04: epoch = 0300 train time = 3 s train loss = 0.004594 train acc = 1.0000, test acc = 0.3781\n",
            "Evaluate 5 random ConvNet, mean = 0.3713 std = 0.0057\n",
            "-------------------------\n",
            "[2022-11-28 15:47:27] iter = 0060, loss = 126.5277\n",
            "[2022-11-28 15:49:05] iter = 0070, loss = 121.4610\n",
            "-------------------------\n",
            "Evaluation\n",
            "model_train = ConvNet, model_eval = ConvNet, iteration = 80\n",
            "DC augmentation parameters: \n",
            " {'crop': 4, 'scale': 0.2, 'rotate': 45, 'noise': 0.001, 'strategy': 'none'}\n",
            "[2022-11-28 15:50:38] Evaluate_00: epoch = 0300 train time = 3 s train loss = 0.004601 train acc = 1.0000, test acc = 0.3905\n",
            "[2022-11-28 15:50:45] Evaluate_01: epoch = 0300 train time = 3 s train loss = 0.004701 train acc = 1.0000, test acc = 0.3813\n",
            "[2022-11-28 15:50:51] Evaluate_02: epoch = 0300 train time = 3 s train loss = 0.004704 train acc = 1.0000, test acc = 0.3834\n",
            "[2022-11-28 15:50:57] Evaluate_03: epoch = 0300 train time = 3 s train loss = 0.004674 train acc = 1.0000, test acc = 0.3863\n",
            "[2022-11-28 15:51:03] Evaluate_04: epoch = 0300 train time = 3 s train loss = 0.004542 train acc = 1.0000, test acc = 0.3952\n",
            "Evaluate 5 random ConvNet, mean = 0.3873 std = 0.0050\n",
            "-------------------------\n",
            "[2022-11-28 15:51:13] iter = 0080, loss = 118.1523\n",
            "[2022-11-28 15:52:51] iter = 0090, loss = 114.6238\n",
            "-------------------------\n",
            "Evaluation\n",
            "model_train = ConvNet, model_eval = ConvNet, iteration = 100\n",
            "DC augmentation parameters: \n",
            " {'crop': 4, 'scale': 0.2, 'rotate': 45, 'noise': 0.001, 'strategy': 'none'}\n",
            "[2022-11-28 15:54:25] Evaluate_00: epoch = 0300 train time = 3 s train loss = 0.004661 train acc = 1.0000, test acc = 0.4019\n",
            "[2022-11-28 15:54:31] Evaluate_01: epoch = 0300 train time = 3 s train loss = 0.004808 train acc = 1.0000, test acc = 0.3951\n",
            "[2022-11-28 15:54:37] Evaluate_02: epoch = 0300 train time = 3 s train loss = 0.004847 train acc = 1.0000, test acc = 0.3984\n",
            "[2022-11-28 15:54:44] Evaluate_03: epoch = 0300 train time = 3 s train loss = 0.004767 train acc = 1.0000, test acc = 0.3925\n",
            "[2022-11-28 15:54:50] Evaluate_04: epoch = 0300 train time = 3 s train loss = 0.004745 train acc = 1.0000, test acc = 0.3717\n",
            "Evaluate 5 random ConvNet, mean = 0.3919 std = 0.0106\n",
            "-------------------------\n",
            "[2022-11-28 15:55:00] iter = 0100, loss = 114.7304\n",
            "\n",
            "==================== Final Results ====================\n",
            "\n",
            "Run 1 experiments, train on ConvNet, evaluate 5 random ConvNet, mean  = 39.19%  std = 1.06%\n"
          ]
        }
      ]
    },
    {
      "cell_type": "code",
      "source": [
        "#!zip -r /content/result.zip /content/result\n",
        "#from google.colab import files\n",
        "#files.download(\"/content/result.zip\")"
      ],
      "metadata": {
        "colab": {
          "base_uri": "https://localhost:8080/",
          "height": 383
        },
        "id": "AlMs-vZ7BS5E",
        "outputId": "87a349d5-564f-44b6-8bfc-7e9a3ec3b591"
      },
      "execution_count": 8,
      "outputs": [
        {
          "output_type": "stream",
          "name": "stdout",
          "text": [
            "\tzip warning: name not matched: /content/result\n",
            "\n",
            "zip error: Nothing to do! (try: zip -r /content/result.zip . -i /content/result)\n"
          ]
        },
        {
          "output_type": "error",
          "ename": "FileNotFoundError",
          "evalue": "ignored",
          "traceback": [
            "\u001b[0;31m---------------------------------------------------------------------------\u001b[0m",
            "\u001b[0;31mFileNotFoundError\u001b[0m                         Traceback (most recent call last)",
            "\u001b[0;32m<ipython-input-8-806f6edcd1bc>\u001b[0m in \u001b[0;36m<module>\u001b[0;34m\u001b[0m\n\u001b[1;32m      1\u001b[0m \u001b[0mget_ipython\u001b[0m\u001b[0;34m(\u001b[0m\u001b[0;34m)\u001b[0m\u001b[0;34m.\u001b[0m\u001b[0msystem\u001b[0m\u001b[0;34m(\u001b[0m\u001b[0;34m'zip -r /content/result.zip /content/result'\u001b[0m\u001b[0;34m)\u001b[0m\u001b[0;34m\u001b[0m\u001b[0;34m\u001b[0m\u001b[0m\n\u001b[1;32m      2\u001b[0m \u001b[0;32mfrom\u001b[0m \u001b[0mgoogle\u001b[0m\u001b[0;34m.\u001b[0m\u001b[0mcolab\u001b[0m \u001b[0;32mimport\u001b[0m \u001b[0mfiles\u001b[0m\u001b[0;34m\u001b[0m\u001b[0;34m\u001b[0m\u001b[0m\n\u001b[0;32m----> 3\u001b[0;31m \u001b[0mfiles\u001b[0m\u001b[0;34m.\u001b[0m\u001b[0mdownload\u001b[0m\u001b[0;34m(\u001b[0m\u001b[0;34m\"/content/result.zip\"\u001b[0m\u001b[0;34m)\u001b[0m\u001b[0;34m\u001b[0m\u001b[0;34m\u001b[0m\u001b[0m\n\u001b[0m",
            "\u001b[0;32m/usr/local/lib/python3.7/dist-packages/google/colab/files.py\u001b[0m in \u001b[0;36mdownload\u001b[0;34m(filename)\u001b[0m\n\u001b[1;32m    207\u001b[0m   \u001b[0;32mif\u001b[0m \u001b[0;32mnot\u001b[0m \u001b[0m_os\u001b[0m\u001b[0;34m.\u001b[0m\u001b[0mpath\u001b[0m\u001b[0;34m.\u001b[0m\u001b[0mexists\u001b[0m\u001b[0;34m(\u001b[0m\u001b[0mfilename\u001b[0m\u001b[0;34m)\u001b[0m\u001b[0;34m:\u001b[0m\u001b[0;34m\u001b[0m\u001b[0;34m\u001b[0m\u001b[0m\n\u001b[1;32m    208\u001b[0m     \u001b[0mmsg\u001b[0m \u001b[0;34m=\u001b[0m \u001b[0;34m'Cannot find file: {}'\u001b[0m\u001b[0;34m.\u001b[0m\u001b[0mformat\u001b[0m\u001b[0;34m(\u001b[0m\u001b[0mfilename\u001b[0m\u001b[0;34m)\u001b[0m\u001b[0;34m\u001b[0m\u001b[0;34m\u001b[0m\u001b[0m\n\u001b[0;32m--> 209\u001b[0;31m     \u001b[0;32mraise\u001b[0m \u001b[0mFileNotFoundError\u001b[0m\u001b[0;34m(\u001b[0m\u001b[0mmsg\u001b[0m\u001b[0;34m)\u001b[0m  \u001b[0;31m# pylint: disable=undefined-variable\u001b[0m\u001b[0;34m\u001b[0m\u001b[0;34m\u001b[0m\u001b[0m\n\u001b[0m\u001b[1;32m    210\u001b[0m \u001b[0;34m\u001b[0m\u001b[0m\n\u001b[1;32m    211\u001b[0m   \u001b[0mcomm_manager\u001b[0m \u001b[0;34m=\u001b[0m \u001b[0m_IPython\u001b[0m\u001b[0;34m.\u001b[0m\u001b[0mget_ipython\u001b[0m\u001b[0;34m(\u001b[0m\u001b[0;34m)\u001b[0m\u001b[0;34m.\u001b[0m\u001b[0mkernel\u001b[0m\u001b[0;34m.\u001b[0m\u001b[0mcomm_manager\u001b[0m\u001b[0;34m\u001b[0m\u001b[0;34m\u001b[0m\u001b[0m\n",
            "\u001b[0;31mFileNotFoundError\u001b[0m: Cannot find file: /content/result.zip"
          ]
        }
      ]
    },
    {
      "cell_type": "markdown",
      "source": [
        "## Load up distilled dataset and train model "
      ],
      "metadata": {
        "id": "s72YNW3d4XPw"
      }
    },
    {
      "cell_type": "code",
      "source": [
        "distilled_set_name = 'result/res_DC_CIFAR10_ConvNet_10ipc.pt'\n",
        "dataset = torch.load(distilled_set_name)\n",
        "syn_data = dataset['data']\n",
        "syn_data = TensorDataset(syn_data[0][0], syn_data[0][1])\n",
        "\n",
        "channel, im_size, num_classes, class_names, mean, std, dst_train, dst_test, testloader = get_dataset(args.dataset, args.data_path)\n",
        "net = get_network(args.model, channel, num_classes, im_size).to(args.device)\n",
        "\n",
        "\n",
        "net.train()\n",
        "optimizer_net = torch.optim.SGD(net.parameters(), lr=0.01)  # optimizer_img for synthetic data\n",
        "optimizer_net.zero_grad()\n",
        "\n",
        "criterion = nn.CrossEntropyLoss().to(args.device)\n",
        "\n",
        "num_epochs = 20\n",
        "\n",
        "trainloader = torch.utils.data.DataLoader(syn_data, batch_size=1, shuffle=True, num_workers=0)\n",
        "scheduler = torch.optim.lr_scheduler.CosineAnnealingLR(optimizer_net, num_epochs)\n",
        "\n",
        "\n",
        "for i in range(num_epochs):\n",
        "  loss_avg, acc_avg = epoch('train', trainloader, net, optimizer_net, criterion, args, aug = True if args.dsa else False)\n",
        "  for param_group in optimizer_net.param_groups:\n",
        "    print(\"Current learning rate is: {}\".format(param_group['lr']))\n",
        "\n",
        "  print(\"Epoch[{}/{}]: Loss: {:.4f}, ACC: {:.4f}\".format(i+1,num_epochs, loss_avg, acc_avg))\n",
        "  scheduler.step()\n",
        "\n",
        "\n",
        "testloader = torch.utils.data.DataLoader(dst_test, batch_size=args.batch_train, shuffle=True, num_workers=0)\n",
        "net.eval()\n",
        "loss_avg, acc_avg = epoch('test', testloader, net, optimizer_net, criterion, args, aug = True if args.dsa else False)\n",
        "\n",
        "print(\"Test set: Loss: {:.4f}, ACC: {:.4f}\".format(loss_avg, acc_avg))"
      ],
      "metadata": {
        "colab": {
          "base_uri": "https://localhost:8080/"
        },
        "id": "f_U8IIbd0Wdf",
        "outputId": "55548f33-8d77-471e-d222-0c13a9aa2ab5"
      },
      "execution_count": 7,
      "outputs": [
        {
          "output_type": "stream",
          "name": "stdout",
          "text": [
            "Files already downloaded and verified\n",
            "Files already downloaded and verified\n",
            "Current learning rate is: 0.01\n",
            "Epoch[1/20]: Loss: 4.4897, ACC: 0.1200\n",
            "Current learning rate is: 0.009938441702975689\n",
            "Epoch[2/20]: Loss: 3.0855, ACC: 0.2200\n",
            "Current learning rate is: 0.009755282581475769\n",
            "Epoch[3/20]: Loss: 2.2197, ACC: 0.3100\n",
            "Current learning rate is: 0.00945503262094184\n",
            "Epoch[4/20]: Loss: 1.6446, ACC: 0.4100\n",
            "Current learning rate is: 0.009045084971874739\n",
            "Epoch[5/20]: Loss: 0.8483, ACC: 0.6900\n",
            "Current learning rate is: 0.008535533905932738\n",
            "Epoch[6/20]: Loss: 0.4707, ACC: 0.8700\n",
            "Current learning rate is: 0.007938926261462366\n",
            "Epoch[7/20]: Loss: 0.2005, ACC: 0.9800\n",
            "Current learning rate is: 0.007269952498697735\n",
            "Epoch[8/20]: Loss: 0.0928, ACC: 0.9900\n",
            "Current learning rate is: 0.006545084971874738\n",
            "Epoch[9/20]: Loss: 0.0513, ACC: 1.0000\n",
            "Current learning rate is: 0.005782172325201155\n",
            "Epoch[10/20]: Loss: 0.0395, ACC: 1.0000\n",
            "Current learning rate is: 0.005\n",
            "Epoch[11/20]: Loss: 0.0338, ACC: 1.0000\n",
            "Current learning rate is: 0.004217827674798847\n",
            "Epoch[12/20]: Loss: 0.0297, ACC: 1.0000\n",
            "Current learning rate is: 0.0034549150281252636\n",
            "Epoch[13/20]: Loss: 0.0272, ACC: 1.0000\n",
            "Current learning rate is: 0.0027300475013022664\n",
            "Epoch[14/20]: Loss: 0.0253, ACC: 1.0000\n",
            "Current learning rate is: 0.0020610737385376348\n",
            "Epoch[15/20]: Loss: 0.0240, ACC: 1.0000\n",
            "Current learning rate is: 0.0014644660940672626\n",
            "Epoch[16/20]: Loss: 0.0230, ACC: 1.0000\n",
            "Current learning rate is: 0.0009549150281252633\n",
            "Epoch[17/20]: Loss: 0.0224, ACC: 1.0000\n",
            "Current learning rate is: 0.0005449673790581611\n",
            "Epoch[18/20]: Loss: 0.0220, ACC: 1.0000\n",
            "Current learning rate is: 0.00024471741852423234\n",
            "Epoch[19/20]: Loss: 0.0217, ACC: 1.0000\n",
            "Current learning rate is: 6.15582970243117e-05\n",
            "Epoch[20/20]: Loss: 0.0216, ACC: 1.0000\n",
            "Test set: Loss: 2.2192, ACC: 0.3639\n"
          ]
        }
      ]
    }
  ]
}