{
  "cells": [
    {
      "cell_type": "markdown",
      "metadata": {
        "id": "view-in-github",
        "colab_type": "text"
      },
      "source": [
        "<a href=\"https://colab.research.google.com/github/hl5chen/ECE1512-2022F-ProjectRepo_YiyangShi_HsuanlingChen/blob/main/T1.ipynb\" target=\"_parent\"><img src=\"https://colab.research.google.com/assets/colab-badge.svg\" alt=\"Open In Colab\"/></a>"
      ]
    },
    {
      "cell_type": "markdown",
      "metadata": {
        "id": "6WYMfvCNPwpm"
      },
      "source": [
        "# Project A: Knowledge Distillation for Building Lightweight Deep Learning Models in Visual Classification Tasks"
      ]
    },
    {
      "cell_type": "code",
      "execution_count": null,
      "metadata": {
        "id": "vA8ppgB2P0aJ"
      },
      "outputs": [],
      "source": [
        "import tensorflow.compat.v2 as tf\n",
        "import tensorflow_datasets as tfds\n",
        "from typing import Union\n",
        "\n",
        "tf.enable_v2_behavior()\n",
        "tf.keras.utils.set_random_seed(1)\n",
        "tf.config.experimental.enable_op_determinism()\n",
        "\n",
        "builder = tfds.builder('mnist')\n",
        "BATCH_SIZE = 256\n",
        "NUM_EPOCHS = 12 # 12\n",
        "NUM_CLASSES = 10  # 10 total classes."
      ]
    },
    {
      "cell_type": "markdown",
      "metadata": {
        "id": "H2EFLQROP2R7"
      },
      "source": [
        "# Data loading"
      ]
    },
    {
      "cell_type": "code",
      "execution_count": null,
      "metadata": {
        "id": "ynByMG_UP4A4",
        "colab": {
          "base_uri": "https://localhost:8080/",
          "height": 84,
          "referenced_widgets": [
            "b9aab81358844a86873d388b841ac334",
            "8a2e150a852d4aa2a8c2bb1def6cbe7c",
            "980f5cb917304b8c952f395052882c50",
            "fbeb96167e5546eabf0e59b3ba06c8cb",
            "36a8f0d07ac7436cbc9ef17d85c62689",
            "70542b8d0c934ed8b23b232586aeaf56",
            "67817748dc36424baae44ce2c3a8be0c",
            "b8d3ce19d49347b795011cbe52b6ca05",
            "5165ebad0ed4410980419e7bef4ec431",
            "385f54877644470f8beb41cbd8c1754f",
            "1e2e70d7a84d496a8b4e0e31f70f671f"
          ]
        },
        "outputId": "328dc42b-1cd9-47d4-fc3a-d2a12848c3e7"
      },
      "outputs": [
        {
          "output_type": "stream",
          "name": "stdout",
          "text": [
            "\u001b[1mDownloading and preparing dataset 11.06 MiB (download: 11.06 MiB, generated: 21.00 MiB, total: 32.06 MiB) to ~/tensorflow_datasets/mnist/3.0.1...\u001b[0m\n"
          ]
        },
        {
          "output_type": "display_data",
          "data": {
            "text/plain": [
              "Dl Completed...:   0%|          | 0/4 [00:00<?, ? file/s]"
            ],
            "application/vnd.jupyter.widget-view+json": {
              "version_major": 2,
              "version_minor": 0,
              "model_id": "b9aab81358844a86873d388b841ac334"
            }
          },
          "metadata": {}
        },
        {
          "output_type": "stream",
          "name": "stdout",
          "text": [
            "\u001b[1mDataset mnist downloaded and prepared to ~/tensorflow_datasets/mnist/3.0.1. Subsequent calls will reuse this data.\u001b[0m\n"
          ]
        }
      ],
      "source": [
        "# Load train and test splits.\n",
        "def preprocess(x):\n",
        "    image = tf.image.convert_image_dtype(x['image'], tf.float32)\n",
        "    subclass_labels = tf.one_hot(x['label'], builder.info.features['label'].num_classes)\n",
        "    return image, subclass_labels\n",
        "\n",
        "\n",
        "mnist_train = tfds.load('mnist', split='train', shuffle_files=False).cache()\n",
        "mnist_train = mnist_train.map(preprocess)\n",
        "mnist_train = mnist_train.shuffle(builder.info.splits['train'].num_examples)\n",
        "mnist_train = mnist_train.batch(BATCH_SIZE, drop_remainder=True)\n",
        "\n",
        "mnist_test = tfds.load('mnist', split='test').cache()\n",
        "mnist_test = mnist_test.map(preprocess).batch(BATCH_SIZE)"
      ]
    },
    {
      "cell_type": "markdown",
      "metadata": {
        "id": "kAZwfvW5P63q"
      },
      "source": [
        "# Model creation"
      ]
    },
    {
      "cell_type": "code",
      "execution_count": null,
      "metadata": {
        "id": "zINgDkA7P7BP"
      },
      "outputs": [],
      "source": [
        "#@test {\"output\": \"ignore\"}\n",
        "\n",
        "# Build CNN teacher.\n",
        "import tensorflow.compat.v2.keras.layers as layers\n",
        "\n",
        "\n",
        "def initialize_cnn():\n",
        "  cnn_model = tf.keras.Sequential()\n",
        "\n",
        "  # your code start from here for stpe 2\n",
        "  cnn_model.add(layers.Conv2D(32, (3, 3), activation='relu', input_shape=(28, 28, 1)))\n",
        "  cnn_model.add(layers.MaxPooling2D((2, 2), strides=(1, 1)))\n",
        "  cnn_model.add(layers.Conv2D(64, (3, 3), activation='relu'))\n",
        "  cnn_model.add(layers.MaxPooling2D((2, 2), strides=(2, 2)))\n",
        "  cnn_model.add(layers.Flatten())\n",
        "  cnn_model.add(layers.Dropout(0.5))\n",
        "  cnn_model.add(layers.Dense(128, activation='relu'))\n",
        "  cnn_model.add(layers.Dropout(0.5))\n",
        "  cnn_model.add(layers.Dense(10))\n",
        "  return cnn_model\n",
        "\n",
        "\n",
        "\n",
        "def initialize_fc():\n",
        "  # Build fully connected student.\n",
        "  fc_model = tf.keras.Sequential()\n",
        "  fc_model.add(layers.Flatten())\n",
        "  fc_model.add(layers.Dense(784, activation='relu'))\n",
        "  fc_model.add(layers.Dense(784, activation='relu'))\n",
        "  fc_model.add(layers.Dense(10))\n",
        "  return fc_model\n",
        "\n",
        "cnn_model = initialize_cnn()\n",
        "fc_model = initialize_fc()\n"
      ]
    },
    {
      "cell_type": "markdown",
      "metadata": {
        "id": "8JWGucyrQGav"
      },
      "source": [
        "# Teacher loss function"
      ]
    },
    {
      "cell_type": "code",
      "execution_count": null,
      "metadata": {
        "id": "DhzBP6ZLQJ57"
      },
      "outputs": [],
      "source": [
        "@tf.function\n",
        "def compute_teacher_loss(images, labels):\n",
        "    \"\"\"Compute subclass knowledge distillation teacher loss for given images\n",
        "     and labels.\n",
        "\n",
        "    Args:\n",
        "    images: Tensor representing a batch of images.\n",
        "    labels: Tensor representing a batch of labels.\n",
        "\n",
        "    Returns:\n",
        "    Scalar loss Tensor.\n",
        "    \"\"\"\n",
        "    subclass_logits = cnn_model(images, training=True)\n",
        "\n",
        "    # your code start from here for step 3\n",
        "\n",
        "    cross_entropy_loss_value = tf.nn.softmax_cross_entropy_with_logits(labels=labels, logits=subclass_logits)\n",
        "\n",
        "    return tf.reduce_mean(cross_entropy_loss_value)"
      ]
    },
    {
      "cell_type": "markdown",
      "metadata": {
        "id": "JS8xkuH0QbOS"
      },
      "source": [
        "# Student loss function"
      ]
    },
    {
      "cell_type": "code",
      "execution_count": null,
      "metadata": {
        "id": "lDKia4gPQMIr"
      },
      "outputs": [],
      "source": [
        "#@test {\"output\": \"ignore\"}\n",
        "\n",
        "# Hyperparameters for distillation (need to be tuned).\n",
        "ALPHA = 0.5 # task balance between cross-entropy and distillation loss\n",
        "DISTILLATION_TEMPERATURE = 4. #temperature hyperparameter\n",
        "\n",
        "def distillation_loss(teacher_logits: tf.Tensor, student_logits: tf.Tensor,\n",
        "                      temperature: Union[float, tf.Tensor]):\n",
        "    \"\"\"Compute distillation loss.\n",
        "\n",
        "    This function computes cross entropy between softened logits and softened\n",
        "    targets. The resulting loss is scaled by the squared temperature so that\n",
        "    the gradient magnitude remains approximately constant as the temperature is\n",
        "    changed. For reference, see Hinton et al., 2014, \"Distilling the knowledge in\n",
        "    a neural network.\"\n",
        "\n",
        "    Args:\n",
        "    teacher_logits: A Tensor of logits provided by the teacher.\n",
        "    student_logits: A Tensor of logits provided by the student, of the same\n",
        "      shape as `teacher_logits`.\n",
        "    temperature: Temperature to use for distillation.\n",
        "\n",
        "    Returns:\n",
        "    A scalar Tensor containing the distillation loss.\n",
        "    \"\"\"\n",
        "    # your code start from here for step 3\n",
        "    soft_targets = tf.nn.softmax(teacher_logits / temperature)\n",
        "    '''\n",
        "    kl = tf.keras.losses.KLDivergence()\n",
        "\n",
        "\n",
        "    return tf.reduce_mean(kl(soft_targets, student_logits / temperature)) * temperature ** 2\n",
        "    '''\n",
        "    return tf.reduce_mean(tf.nn.softmax_cross_entropy_with_logits(soft_targets, student_logits / temperature)) * temperature ** 2\n",
        "\n",
        "def compute_student_loss(images, labels):\n",
        "    \"\"\"Compute subclass knowledge distillation student loss for given images\n",
        "     and labels.\n",
        "\n",
        "    Args:\n",
        "    images: Tensor representing a batch of images.\n",
        "    labels: Tensor representing a batch of labels.\n",
        "\n",
        "    Returns:\n",
        "    Scalar loss Tensor.\n",
        "    \"\"\"\n",
        "    student_subclass_logits = fc_model(images, training=True)\n",
        "\n",
        "    # Compute subclass distillation loss between student subclass logits and\n",
        "    # softened teacher subclass targets probabilities.\n",
        "\n",
        "    # your code start from here for step 3\n",
        "\n",
        "    teacher_subclass_logits = cnn_model(images, training=False)\n",
        "\n",
        "    student_loss_value = tf.nn.softmax_cross_entropy_with_logits(labels=labels, logits=student_subclass_logits)\n",
        "    student_loss_value = tf.reduce_mean(student_loss_value)\n",
        "\n",
        "    distillation_loss_value = distillation_loss(teacher_subclass_logits, student_subclass_logits, DISTILLATION_TEMPERATURE)\n",
        "    # Compute cross-entropy loss with hard targets.\n",
        "\n",
        "    # your code start from here for step 3\n",
        "    student_loss = distillation_loss_value * ALPHA + student_loss_value * (1 - ALPHA)\n",
        "    #print(distillation_loss_value.numpy())\n",
        "\n",
        "    return student_loss"
      ]
    },
    {
      "cell_type": "markdown",
      "metadata": {
        "id": "RJ1uyvurQ3w4"
      },
      "source": [
        "# Train and evaluation"
      ]
    },
    {
      "cell_type": "code",
      "execution_count": null,
      "metadata": {
        "id": "EtoLbp8uQ4Vl"
      },
      "outputs": [],
      "source": [
        "@tf.function\n",
        "def compute_num_correct(model, images, labels):\n",
        "    \"\"\"Compute number of correctly classified images in a batch.\n",
        "\n",
        "    Args:\n",
        "    model: Instance of tf.keras.Model.\n",
        "    images: Tensor representing a batch of images.\n",
        "    labels: Tensor representing a batch of labels.\n",
        "\n",
        "    Returns:\n",
        "    Number of correctly classified images.\n",
        "    \"\"\"\n",
        "    class_logits = model(images, training=False)\n",
        "    return tf.reduce_sum(\n",
        "      tf.cast(tf.math.equal(tf.argmax(class_logits, -1), tf.argmax(labels, -1)),\n",
        "              tf.float32))\n",
        "\n",
        "\n",
        "def train_and_evaluate(model, compute_loss_fn, compute_num_correct):\n",
        "    \"\"\"Perform training and evaluation for a given model.\n",
        "\n",
        "    Args:\n",
        "    model: Instance of tf.keras.Model.\n",
        "    compute_loss_fn: A function that computes the training loss given the\n",
        "      images, and labels.\n",
        "    \"\"\"\n",
        "\n",
        "    # your code start from here for step 4\n",
        "    optimizer = tf.keras.optimizers.Adam(learning_rate=0.001)\n",
        "\n",
        "    for epoch in range(1, NUM_EPOCHS + 1):\n",
        "        # Run training.\n",
        "        print('Epoch {}: '.format(epoch), end='')\n",
        "        for images, labels in mnist_train:\n",
        "            with tf.GradientTape() as tape:\n",
        "                # your code start from here for step 4\n",
        "                loss_value = compute_loss_fn(images, labels)\n",
        "                #print(\"loss value \" + str(loss_value.numpy()))\n",
        "\n",
        "            grads = tape.gradient(loss_value, model.trainable_variables)\n",
        "            optimizer.apply_gradients(zip(grads, model.trainable_variables))\n",
        "\n",
        "        # Run evaluation.\n",
        "        num_correct = 0\n",
        "        num_total = builder.info.splits['test'].num_examples\n",
        "    \n",
        "        for images, labels in mnist_test:\n",
        "            # your code start from here for step 4\n",
        "            num_correct += compute_num_correct(model, images, labels)\n",
        "\n",
        "        print(\"Class_accuracy: \" + '{:.2f}%'.format(\n",
        "            num_correct / num_total * 100))\n"
      ]
    },
    {
      "cell_type": "markdown",
      "metadata": {
        "id": "NQL1lJdaRPT1"
      },
      "source": [
        "# Training models"
      ]
    },
    {
      "cell_type": "code",
      "execution_count": null,
      "metadata": {
        "colab": {
          "base_uri": "https://localhost:8080/"
        },
        "id": "-AGHbyABRPz3",
        "outputId": "97a1d34d-1bdf-4b9c-f4b3-2b9e653a27a3"
      },
      "outputs": [
        {
          "output_type": "stream",
          "name": "stdout",
          "text": [
            "------Teacher-------\n",
            "Epoch 1: Class_accuracy: 98.27%\n",
            "Epoch 2: Class_accuracy: 98.55%\n",
            "Epoch 3: Class_accuracy: 98.85%\n",
            "Epoch 4: Class_accuracy: 99.01%\n",
            "Epoch 5: Class_accuracy: 98.94%\n",
            "Epoch 6: Class_accuracy: 99.03%\n",
            "Epoch 7: Class_accuracy: 98.88%\n",
            "Epoch 8: Class_accuracy: 99.15%\n",
            "Epoch 9: Class_accuracy: 99.20%\n",
            "Epoch 10: Class_accuracy: 99.14%\n",
            "Epoch 11: Class_accuracy: 99.19%\n",
            "Epoch 12: Class_accuracy: 99.29%\n"
          ]
        }
      ],
      "source": [
        "# your code start from here for step 5 \n",
        "print(\"------Teacher-------\")\n",
        "train_and_evaluate(cnn_model, compute_teacher_loss, compute_num_correct)\n"
      ]
    },
    {
      "cell_type": "code",
      "source": [
        "print(\"------Student-------\")\n",
        "train_and_evaluate(fc_model, compute_student_loss, compute_num_correct)"
      ],
      "metadata": {
        "colab": {
          "base_uri": "https://localhost:8080/"
        },
        "id": "xC9D2wQbktAx",
        "outputId": "215fd98a-84c9-4257-f18e-0bb2e3cc0501"
      },
      "execution_count": null,
      "outputs": [
        {
          "output_type": "stream",
          "name": "stdout",
          "text": [
            "------Student-------\n",
            "Epoch 1: Class_accuracy: 98.79%\n",
            "Epoch 2: Class_accuracy: 98.86%\n",
            "Epoch 3: Class_accuracy: 98.84%\n",
            "Epoch 4: Class_accuracy: 98.89%\n",
            "Epoch 5: Class_accuracy: 98.84%\n",
            "Epoch 6: Class_accuracy: 98.91%\n",
            "Epoch 7: Class_accuracy: 98.90%\n",
            "Epoch 8: Class_accuracy: 98.90%\n",
            "Epoch 9: Class_accuracy: 98.94%\n",
            "Epoch 10: Class_accuracy: 98.88%\n",
            "Epoch 11: Class_accuracy: 98.86%\n",
            "Epoch 12: Class_accuracy: 98.93%\n"
          ]
        }
      ]
    },
    {
      "cell_type": "markdown",
      "metadata": {
        "id": "sj1N38fnRTNB"
      },
      "source": [
        "# Test accuracy vs. tempreture curve"
      ]
    },
    {
      "cell_type": "code",
      "execution_count": null,
      "metadata": {
        "id": "gX4dbazrRWIz",
        "outputId": "e274168c-4875-455c-9633-4573ca498adc",
        "colab": {
          "base_uri": "https://localhost:8080/",
          "height": 1000
        }
      },
      "outputs": [
        {
          "output_type": "stream",
          "name": "stdout",
          "text": [
            "Temperature = 1\n",
            "Class_accuracy: 96.24%\n",
            "Class_accuracy: 97.45%\n",
            "Class_accuracy: 97.78%\n",
            "Class_accuracy: 97.83%\n",
            "Class_accuracy: 98.34%\n",
            "Class_accuracy: 98.05%\n",
            "Class_accuracy: 98.38%\n",
            "Class_accuracy: 98.30%\n",
            "Class_accuracy: 98.06%\n",
            "Class_accuracy: 98.27%\n",
            "Class_accuracy: 98.28%\n",
            "Class_accuracy: 98.20%\n",
            "Temperature = 2\n",
            "Class_accuracy: 96.58%\n",
            "Class_accuracy: 97.61%\n",
            "Class_accuracy: 97.97%\n",
            "Class_accuracy: 98.33%\n",
            "Class_accuracy: 98.18%\n",
            "Class_accuracy: 98.37%\n",
            "Class_accuracy: 98.46%\n",
            "Class_accuracy: 98.49%\n",
            "Class_accuracy: 98.55%\n",
            "Class_accuracy: 98.48%\n",
            "Class_accuracy: 98.62%\n",
            "Class_accuracy: 98.62%\n",
            "Temperature = 4\n",
            "Class_accuracy: 96.81%\n",
            "Class_accuracy: 97.98%\n",
            "Class_accuracy: 98.16%\n",
            "Class_accuracy: 98.47%\n",
            "Class_accuracy: 98.56%\n",
            "Class_accuracy: 98.62%\n",
            "Class_accuracy: 98.69%\n",
            "Class_accuracy: 98.68%\n",
            "Class_accuracy: 98.78%\n",
            "Class_accuracy: 98.77%\n",
            "Class_accuracy: 98.81%\n",
            "Class_accuracy: 98.78%\n",
            "Temperature = 16\n",
            "Class_accuracy: 96.83%\n",
            "Class_accuracy: 97.88%\n",
            "Class_accuracy: 98.12%\n",
            "Class_accuracy: 98.39%\n",
            "Class_accuracy: 98.58%\n",
            "Class_accuracy: 98.57%\n",
            "Class_accuracy: 98.66%\n",
            "Class_accuracy: 98.67%\n",
            "Class_accuracy: 98.67%\n",
            "Class_accuracy: 98.66%\n",
            "Class_accuracy: 98.79%\n",
            "Class_accuracy: 98.81%\n",
            "Temperature = 32\n",
            "Class_accuracy: 96.86%\n",
            "Class_accuracy: 98.07%\n",
            "Class_accuracy: 98.23%\n",
            "Class_accuracy: 98.40%\n",
            "Class_accuracy: 98.49%\n",
            "Class_accuracy: 98.56%\n",
            "Class_accuracy: 98.72%\n",
            "Class_accuracy: 98.66%\n",
            "Class_accuracy: 98.77%\n",
            "Class_accuracy: 98.78%\n",
            "Class_accuracy: 98.80%\n",
            "Class_accuracy: 98.83%\n",
            "Temperature = 64\n",
            "Class_accuracy: 96.89%\n",
            "Class_accuracy: 98.10%\n",
            "Class_accuracy: 98.26%\n",
            "Class_accuracy: 98.57%\n",
            "Class_accuracy: 98.52%\n",
            "Class_accuracy: 98.54%\n",
            "Class_accuracy: 98.64%\n",
            "Class_accuracy: 98.76%\n",
            "Class_accuracy: 98.79%\n",
            "Class_accuracy: 98.83%\n",
            "Class_accuracy: 98.77%\n",
            "Class_accuracy: 98.89%\n"
          ]
        },
        {
          "output_type": "display_data",
          "data": {
            "text/plain": [
              "<Figure size 432x288 with 1 Axes>"
            ],
            "image/png": "[encoded data removed]"
          },
          "metadata": {
            "needs_background": "light"
          }
        }
      ],
      "source": [
        "# your code start from here for step 6\n",
        "#6. Plot a curve representing student test accuracy vs. temperature hyperparameters (T = 1,2,4,16,32, and 64) \n",
        "#when the task balance parameter is 0.5. \n",
        "#Explain the effect of temperature hyperparameter in this experiment. [1 Marks]\n",
        "\n",
        "def compute_student_loss_plot(images, labels, temperature, alpha=0.5):\n",
        "  student_class_logits = fc_model(images, training=True)\n",
        "  teacher_class_logits = cnn_model(images, training=False)\n",
        "  \n",
        "  distillation_loss_value = distillation_loss(teacher_class_logits, student_class_logits, temperature)\n",
        "  \n",
        "  student_loss = tf.reduce_mean(tf.nn.softmax_cross_entropy_with_logits(labels, student_class_logits))\n",
        "  cross_entropy_loss_value = alpha * student_loss + (1 - alpha) * distillation_loss_value\n",
        "  return cross_entropy_loss_value\n",
        "\n",
        "def train_and_evaluate_plot(model, compute_loss_fn, temperature, alpha=0.5):\n",
        "  \"\"\"Perform training and evaluation for a given model.\n",
        "\n",
        "  Args:\n",
        "  model: Instance of tf.keras.Model.\n",
        "  compute_loss_fn: A function that computes the training loss given the\n",
        "  images, and labels.\n",
        "  \"\"\"\n",
        "  optimizer = tf.keras.optimizers.Adam(learning_rate=0.001)\n",
        "  test_accuracy = []\n",
        "\n",
        "  for epoch in range(1, NUM_EPOCHS + 1):\n",
        "    # Run training.\n",
        "    for images, labels in mnist_train:\n",
        "      with tf.GradientTape() as tape:\n",
        "        # your code start from here for step 4\n",
        "        loss_value = compute_loss_fn(images, labels, temperature, alpha=0.5)\n",
        "\n",
        "      grads = tape.gradient(loss_value, model.trainable_variables)\n",
        "      optimizer.apply_gradients(zip(grads, model.trainable_variables))\n",
        "\n",
        "    # Run evaluation.\n",
        "    num_correct = 0\n",
        "    num_total = builder.info.splits['test'].num_examples\n",
        "    \n",
        "    for images, labels in mnist_test:\n",
        "      # your code start from here for step 4\n",
        "      num_correct += compute_num_correct(model, images, labels)\n",
        "    print(\"Class_accuracy: \" + '{:.2f}%'.format(\n",
        "         num_correct / num_total * 100))\n",
        "    test_accuracy.append(num_correct / num_total * 100)\n",
        "  return test_accuracy\n",
        "\n",
        "# your code start from here for step 6\n",
        "import matplotlib.pyplot as plt\n",
        "\n",
        "T = [1,2,4,16,32,64]\n",
        "TEST_ACCUR = []\n",
        "epoch = [i for i in range(1, NUM_EPOCHS + 1)]\n",
        "\n",
        "for t in T:\n",
        "  print(f'Temperature = {t}')\n",
        "  fc_model = initialize_fc()\n",
        "  test_accuracy = train_and_evaluate_plot(fc_model,compute_student_loss_plot, t)\n",
        "  temp = str(t)\n",
        "  temp,  = plt.plot(epoch, test_accuracy, label=f'T = {t}')\n",
        "  TEST_ACCUR.append(temp)\n",
        "\n",
        "plt.title('Model Accuracy')\n",
        "plt.ylabel('accuracy')\n",
        "plt.xlabel('epoch')\n",
        "plt.legend(handles=TEST_ACCUR)\n",
        "plt.show()\n"
      ]
    },
    {
      "cell_type": "code",
      "source": [
        "#plot single point, not tested\n",
        "import matplotlib.pyplot as plt\n",
        "\n",
        "x=['1','2','4','16','32','64']\n",
        "l=plt.plot(x,TEST_ACCUR)\n",
        "plt.title('Test accuracy vs. tempreture curve')\n",
        "plt.xlabel('temperature')\n",
        "plt.ylabel('test_accuracy')\n",
        "plt.legend()\n",
        "plt.show()"
      ],
      "metadata": {
        "id": "90i59nzEpRAE",
        "outputId": "dddca628-f8e2-4638-f0ab-ee9098665c9f",
        "colab": {
          "base_uri": "https://localhost:8080/",
          "height": 236
        }
      },
      "execution_count": 5,
      "outputs": [
        {
          "output_type": "error",
          "ename": "NameError",
          "evalue": "ignored",
          "traceback": [
            "\u001b[0;31m---------------------------------------------------------------------------\u001b[0m",
            "\u001b[0;31mNameError\u001b[0m                                 Traceback (most recent call last)",
            "\u001b[0;32m<ipython-input-5-689d3fe2c39a>\u001b[0m in \u001b[0;36m<module>\u001b[0;34m\u001b[0m\n\u001b[1;32m      3\u001b[0m \u001b[0;34m\u001b[0m\u001b[0m\n\u001b[1;32m      4\u001b[0m \u001b[0mx\u001b[0m\u001b[0;34m=\u001b[0m\u001b[0;34m[\u001b[0m\u001b[0;34m'1'\u001b[0m\u001b[0;34m,\u001b[0m\u001b[0;34m'2'\u001b[0m\u001b[0;34m,\u001b[0m\u001b[0;34m'4'\u001b[0m\u001b[0;34m,\u001b[0m\u001b[0;34m'16'\u001b[0m\u001b[0;34m,\u001b[0m\u001b[0;34m'32'\u001b[0m\u001b[0;34m,\u001b[0m\u001b[0;34m'64'\u001b[0m\u001b[0;34m]\u001b[0m\u001b[0;34m\u001b[0m\u001b[0;34m\u001b[0m\u001b[0m\n\u001b[0;32m----> 5\u001b[0;31m \u001b[0ml\u001b[0m\u001b[0;34m=\u001b[0m\u001b[0mplt\u001b[0m\u001b[0;34m.\u001b[0m\u001b[0mplot\u001b[0m\u001b[0;34m(\u001b[0m\u001b[0mx\u001b[0m\u001b[0;34m,\u001b[0m\u001b[0mTEST_ACCUR\u001b[0m\u001b[0;34m)\u001b[0m\u001b[0;34m\u001b[0m\u001b[0;34m\u001b[0m\u001b[0m\n\u001b[0m\u001b[1;32m      6\u001b[0m \u001b[0mplt\u001b[0m\u001b[0;34m.\u001b[0m\u001b[0mtitle\u001b[0m\u001b[0;34m(\u001b[0m\u001b[0;34m'Test accuracy vs. tempreture curve'\u001b[0m\u001b[0;34m)\u001b[0m\u001b[0;34m\u001b[0m\u001b[0;34m\u001b[0m\u001b[0m\n\u001b[1;32m      7\u001b[0m \u001b[0mplt\u001b[0m\u001b[0;34m.\u001b[0m\u001b[0mxlabel\u001b[0m\u001b[0;34m(\u001b[0m\u001b[0;34m'temperature'\u001b[0m\u001b[0;34m)\u001b[0m\u001b[0;34m\u001b[0m\u001b[0;34m\u001b[0m\u001b[0m\n",
            "\u001b[0;31mNameError\u001b[0m: name 'TEST_ACCUR' is not defined"
          ]
        }
      ]
    },
    {
      "cell_type": "markdown",
      "metadata": {
        "id": "WNrH_1emRbGA"
      },
      "source": [
        "# Train student from scratch"
      ]
    },
    {
      "cell_type": "code",
      "execution_count": null,
      "metadata": {
        "id": "HjospsxIRbQ6"
      },
      "outputs": [],
      "source": [
        "# Build fully connected student.\n",
        "fc_model_no_distillation = tf.keras.Sequential()\n",
        "\n",
        "# your code start from here for step 7\n",
        "fc_model_no_distillation.add(layers.Flatten())\n",
        "fc_model_no_distillation.add(layers.Dense(784, activation='relu'))\n",
        "fc_model_no_distillation.add(layers.Dense(784, activation='relu'))\n",
        "fc_model_no_distillation.add(layers.Dense(10))\n",
        "\n",
        "\n",
        "\n",
        "#@test {\"output\": \"ignore\"}\n",
        "\n",
        "def compute_plain_cross_entropy_loss(images, labels):\n",
        "  \"\"\"Compute plain loss for given images and labels.\n",
        "\n",
        "  For fair comparison and convenience, this function also performs a\n",
        "  LogSumExp over subclasses, but does not perform subclass distillation.\n",
        "\n",
        "  Args:\n",
        "    images: Tensor representing a batch of images.\n",
        "    labels: Tensor representing a batch of labels.\n",
        "\n",
        "  Returns:\n",
        "    Scalar loss Tensor.\n",
        "  \"\"\"\n",
        "  # your code start from here for step 7\n",
        "\n",
        "  student_subclass_logits = fc_model_no_distillation(images, training=True)\n",
        "  cross_entropy_loss = tf.nn.softmax_cross_entropy_with_logits(labels=labels, logits=student_subclass_logits)\n",
        "  \n",
        "  return cross_entropy_loss\n",
        "\n",
        "#Best to include an average \n",
        "train_and_evaluate(fc_model_no_distillation, compute_plain_cross_entropy_loss, compute_num_correct)"
      ]
    },
    {
      "cell_type": "markdown",
      "metadata": {
        "id": "yq3JTpQ4RuhR"
      },
      "source": [
        "# Comparing the teacher and student model (number of of parameters and FLOPs) "
      ]
    },
    {
      "cell_type": "code",
      "execution_count": null,
      "metadata": {
        "id": "4V8GB2yRRuxF"
      },
      "outputs": [],
      "source": [
        "!pip install keras-flops\n",
        "# your code start from here for step 8\n",
        "from keras_flops import get_flops\n",
        "# use get_flops\n",
        "\n",
        "#Teacher: \n",
        "teacher_flops = get_flops(cnn_model, batch_size=1)\n",
        "print(f\"Teacher_flops: {teacher_flops / 10 ** 9:.03} G\")\n",
        "#Student: \n",
        "student_flops = get_flops(fc_model, batch_size=1)\n",
        "print(f\"Student_flops: {student_flops / 10 ** 9:.03} G\")\n",
        "\n",
        "student_no_dist_flops = get_flops(fc_model_no_distillation, batch_size=1)\n",
        "print(f\"Student_no_dist_flops: {student_no_dist_flops / 10 ** 9:.03} G\")"
      ]
    },
    {
      "cell_type": "markdown",
      "metadata": {
        "id": "KjwJ5oziRvRn"
      },
      "source": [
        "# Implementing the state-of-the-art KD algorithm"
      ]
    },
    {
      "cell_type": "code",
      "execution_count": null,
      "metadata": {
        "id": "q10lybAFRvZt"
      },
      "outputs": [],
      "source": [
        "import numpy as np\n",
        "\n",
        "# your code start from here for step 12\n",
        "class CNN_SubClass:\n",
        "  def __init__(self, num_of_subclass, temperature, beta):\n",
        "    self.num_of_subclass = num_of_subclass\n",
        "    self.temperature = temperature\n",
        "    self.beta = beta\n",
        "    self.model = tf.keras.Sequential()\n",
        "\n",
        "    # your code start from here for stpe 2\n",
        "    self.model.add(layers.Conv2D(32, (3, 3), activation='relu', input_shape=(28, 28, 1)))\n",
        "    self.model.add(layers.MaxPooling2D((2, 2), strides=(1, 1)))\n",
        "    self.model.add(layers.Conv2D(64, (3, 3), activation='relu'))\n",
        "    self.model.add(layers.MaxPooling2D((2, 2), strides=(2, 2)))\n",
        "    self.model.add(layers.Flatten())\n",
        "    self.model.add(layers.Dropout(0.5))\n",
        "    self.model.add(layers.Dense(128, activation='relu'))\n",
        "    self.model.add(layers.Dropout(0.5))\n",
        "    self.model.add(layers.Dense(10*num_of_subclass))\n",
        "  \n",
        "  def loss_function(self, images, labels):\n",
        "\n",
        "    subclass_logits = self.model(images, training=True)\n",
        "    # tf.shape(subclass_logits)[0] is batch size \n",
        "    # sum all subclass of a class, get back size 256 x 10 logits \n",
        "    class_logits = tf.reduce_sum(tf.reshape(subclass_logits, (tf.shape(subclass_logits)[0], 10, self.num_of_subclass)),axis=2)\n",
        "    cross_entropy_loss_value = tf.reduce_mean(tf.nn.softmax_cross_entropy_with_logits(labels=labels, logits=class_logits))\n",
        "\n",
        "\n",
        "    mean = tf.math.reduce_mean(subclass_logits, axis=1)\n",
        "    var = tf.math.reduce_variance(subclass_logits, axis=1)\n",
        "\n",
        "\n",
        "    \n",
        "    normalize = tf.keras.layers.Normalization(axis=0, mean=mean, variance=var)\n",
        "    normalized_logits = normalize(subclass_logits)\n",
        "  \n",
        "    # dot product to get to 256 by 256 size \n",
        "    # input 256 * 20, so M dot M.T\n",
        "    \n",
        "    # summing all rows to get exponential sum \n",
        "    exp_sum = tf.reduce_sum(\n",
        "        #dot product of normalized logit with it self\n",
        "        tf.math.exp(tf.matmul(\n",
        "            normalized_logits, \n",
        "            tf.transpose(normalized_logits)) / self.temperature),\n",
        "            axis=1)\n",
        "  \n",
        "    \n",
        "    log_avg = tf.reduce_mean(tf.math.log(exp_sum))\n",
        "    # n = batch size \n",
        "    aux_loss = log_avg - 1 / self.temperature - np.log(tf.shape(subclass_logits)[0])\n",
        "    #print(aux_loss)\n",
        "\n",
        "    total_loss = cross_entropy_loss_value  + self.beta * aux_loss\n",
        "\n",
        "    #print(total_loss)\n",
        "\n",
        "    return total_loss \n",
        "  \n",
        "  def compute_num_correct(self, model, images, labels):\n",
        "    subclass_logits = model(images, training=False)\n",
        "    # tf.shape(subclass_logits)[0] is batch size \n",
        "    class_logits = tf.reduce_sum(tf.reshape(subclass_logits, (tf.shape(subclass_logits)[0], 10, self.num_of_subclass)),axis=2)\n",
        "    \n",
        "    return tf.reduce_sum(\n",
        "      tf.cast(tf.math.equal(tf.argmax(class_logits, -1), tf.argmax(labels, -1)),\n",
        "              tf.float32))\n",
        "  \n",
        "\n",
        "\n",
        "\n",
        "\n",
        "\n"
      ]
    },
    {
      "cell_type": "code",
      "source": [
        "class FC_SubClass:\n",
        "  def __init__(self, num_of_subclass, temperature, alpha):\n",
        "    self.num_of_subclass = num_of_subclass\n",
        "    self.temperature = temperature\n",
        "    self.alpha = alpha\n",
        "    self.model = tf.keras.Sequential()\n",
        "\n",
        "    # your code start from here for stpe 2\n",
        "    self.model = tf.keras.Sequential()\n",
        "    self.model.add(layers.Flatten())\n",
        "    self.model.add(layers.Dense(784, activation='relu'))\n",
        "    self.model.add(layers.Dense(784, activation='relu'))\n",
        "    self.model.add(layers.Dense(10*num_of_subclass))\n",
        "\n",
        "  def compute_num_correct(self, model, images, labels):\n",
        "    subclass_logits = model(images, training=False)\n",
        "    # tf.shape(subclass_logits)[0] is batch size \n",
        "    class_logits = tf.reduce_sum(tf.reshape(subclass_logits, (tf.shape(subclass_logits)[0], 10, self.num_of_subclass)),axis=2)\n",
        "    \n",
        "    return tf.reduce_sum(\n",
        "      tf.cast(tf.math.equal(tf.argmax(class_logits, -1), tf.argmax(labels, -1)),\n",
        "              tf.float32))\n",
        "    \n",
        "\n",
        "  def distillation_loss(teacher_logits: tf.Tensor, student_logits: tf.Tensor,\n",
        "                      temperature: Union[float, tf.Tensor]):\n",
        "    \n",
        "    soft_targets = tf.nn.softmax(teacher_logits / temperature)\n",
        "    return tf.reduce_mean(tf.nn.softmax_cross_entropy_with_logits(soft_targets, student_logits / temperature)) * temperature ** 2\n",
        "    \n",
        "  def loss_function(self, images, labels, teacher_model):\n",
        "\n",
        "    student_subclass_logits = self.model(images, training=True)\n",
        "\n",
        "    class_logits = tf.reduce_sum(tf.reshape(student_subclass_logits, (tf.shape(student_subclass_logits)[0], 10, self.num_of_subclass)),axis=2)\n",
        "\n",
        "    # Compute subclass distillation loss between student subclass logits and\n",
        "    # softened teacher subclass targets probabilities.\n",
        "\n",
        "    # your code start from here for step 3\n",
        "\n",
        "    teacher_subclass_logits = teacher_model(images, training=False)\n",
        "\n",
        "    student_loss_value = tf.nn.softmax_cross_entropy_with_logits(labels=labels, logits=class_logits)\n",
        "    student_loss_value = tf.reduce_mean(student_loss_value)\n",
        "\n",
        "    distillation_loss_value = distillation_loss(teacher_subclass_logits, student_subclass_logits, DISTILLATION_TEMPERATURE)\n",
        "    # Compute cross-entropy loss with hard targets.\n",
        "\n",
        "    # your code start from here for step 3\n",
        "    student_loss = distillation_loss_value * ALPHA + student_loss_value * (1 - ALPHA)\n",
        "\n",
        "    return student_loss \n",
        "  \n",
        "  \n",
        "\n"
      ],
      "metadata": {
        "id": "i5bFRwPEYWet"
      },
      "execution_count": null,
      "outputs": []
    },
    {
      "cell_type": "code",
      "source": [
        "def train_and_evaluate_student(model, teacher_model, compute_loss_fn, compute_num_correct):\n",
        "    \"\"\"Perform training and evaluation for a given model.\n",
        "\n",
        "    Args:\n",
        "    model: Instance of tf.keras.Model.\n",
        "    compute_loss_fn: A function that computes the training loss given the\n",
        "      images, and labels.\n",
        "    \"\"\"\n",
        "\n",
        "    # your code start from here for step 4\n",
        "    optimizer = tf.keras.optimizers.Adam(learning_rate=0.001)\n",
        "\n",
        "    for epoch in range(1, NUM_EPOCHS + 1):\n",
        "        # Run training.\n",
        "        print('Epoch {}: '.format(epoch), end='')\n",
        "        for images, labels in mnist_train:\n",
        "            with tf.GradientTape() as tape:\n",
        "                # your code start from here for step 4\n",
        "                loss_value = compute_loss_fn(images, labels, teacher_model)\n",
        "                #print(\"loss value \" + str(loss_value.numpy()))\n",
        "\n",
        "            grads = tape.gradient(loss_value, model.trainable_variables)\n",
        "            optimizer.apply_gradients(zip(grads, model.trainable_variables))\n",
        "\n",
        "        # Run evaluation.\n",
        "        num_correct = 0\n",
        "        num_total = builder.info.splits['test'].num_examples\n",
        "    \n",
        "        for images, labels in mnist_test:\n",
        "            # your code start from here for step 4\n",
        "            num_correct += compute_num_correct(model, images, labels)\n",
        "\n",
        "        print(\"Class_accuracy: \" + '{:.2f}%'.format(\n",
        "            num_correct / num_total * 100))"
      ],
      "metadata": {
        "id": "cvHlXVIJa7-X"
      },
      "execution_count": null,
      "outputs": []
    },
    {
      "cell_type": "code",
      "source": [
        "updated_cnn = CNN_SubClass(2, 20, 0.3)\n",
        "train_and_evaluate(updated_cnn.model, updated_cnn.loss_function, updated_cnn.compute_num_correct)\n"
      ],
      "metadata": {
        "id": "BSWqaTp6YUDu"
      },
      "execution_count": null,
      "outputs": []
    },
    {
      "cell_type": "code",
      "source": [
        "updated_fc = FC_SubClass(2, 4, 0.5)\n",
        "train_and_evaluate_student(updated_fc.model, updated_cnn.model, updated_fc.loss_function, updated_fc.compute_num_correct)"
      ],
      "metadata": {
        "id": "affAeAxRbhrx"
      },
      "execution_count": null,
      "outputs": []
    },
    {
      "cell_type": "markdown",
      "metadata": {
        "id": "6dsOmtqdieIC"
      },
      "source": [
        "# (Optional) XAI method to explain models"
      ]
    },
    {
      "cell_type": "code",
      "execution_count": null,
      "metadata": {
        "id": "X0IMIFW8ilPO"
      },
      "outputs": [],
      "source": [
        "# your code start from here for step 13\n",
        "import numpy as np\n",
        "#Test loss function \n",
        "\n",
        "x = tf.random.uniform(shape=[500, 80], dtype=tf.float32)\n",
        "y = tf.reduce_sum(\n",
        "    tf.reshape(x, (500, 40, 2)),\n",
        "    axis=2\n",
        ")\n",
        "#print(y)\n",
        "mean = tf.math.reduce_mean(y, axis=1)\n",
        "#print(mean)\n",
        "var = tf.math.reduce_variance(y, axis=1)\n",
        "#print(var)\n",
        "layer = tf.keras.layers.Normalization(axis= 0, mean=mean, variance=var)\n",
        "z = layer(y)\n",
        "\n",
        "T = 10\n",
        "\n",
        "exp_sum = tf.reduce_sum(\n",
        "    tf.math.exp(tf.tensordot(z, tf.transpose(z), 1) / T),\n",
        "    axis=1)\n",
        "\n",
        "log_avg = tf.reduce_mean(tf.math.log(exp_sum))\n",
        "# n = batch size \n",
        "aux_loss = log_avg - 1/T - np.log(500)\n",
        "print(aux_loss)\n"
      ]
    },
    {
      "cell_type": "code",
      "source": [
        "import numpy as np\n",
        "a = [[  0.21940991, 1.821567], [-0.03301997,  1.5130547]]\n",
        "\n",
        "b = [[  0.21940991, 1.821567], [-0.03301997,  1.5130547]]\n",
        "\n",
        "\n",
        "\n",
        "c = np.dot(a,np.transpose(b))\n",
        "\n",
        "a_t = tf.constant(a)\n",
        "b_t = tf.constant(b)\n",
        "\n",
        "print(c)\n",
        "print(tf.tensordot(a_t, tf.transpose(b_t),1))\n",
        "\n"
      ],
      "metadata": {
        "id": "zlLO_VoywdQg"
      },
      "execution_count": null,
      "outputs": []
    }
  ],
  "metadata": {
    "accelerator": "GPU",
    "colab": {
      "collapsed_sections": [],
      "provenance": [],
      "include_colab_link": true
    },
    "gpuClass": "standard",
    "kernelspec": {
      "display_name": "Python 3 (ipykernel)",
      "language": "python",
      "name": "python3"
    },
    "language_info": {
      "codemirror_mode": {
        "name": "ipython",
        "version": 3
      },
      "file_extension": ".py",
      "mimetype": "text/x-python",
      "name": "python",
      "nbconvert_exporter": "python",
      "pygments_lexer": "ipython3",
      "version": "3.7.13"
    },
    "widgets": {
      "application/vnd.jupyter.widget-state+json": {
        "b9aab81358844a86873d388b841ac334": {
          "model_module": "@jupyter-widgets/controls",
          "model_name": "HBoxModel",
          "model_module_version": "1.5.0",
          "state": {
            "_dom_classes": [],
            "_model_module": "@jupyter-widgets/controls",
            "_model_module_version": "1.5.0",
            "_model_name": "HBoxModel",
            "_view_count": null,
            "_view_module": "@jupyter-widgets/controls",
            "_view_module_version": "1.5.0",
            "_view_name": "HBoxView",
            "box_style": "",
            "children": [
              "IPY_MODEL_8a2e150a852d4aa2a8c2bb1def6cbe7c",
              "IPY_MODEL_980f5cb917304b8c952f395052882c50",
              "IPY_MODEL_fbeb96167e5546eabf0e59b3ba06c8cb"
            ],
            "layout": "IPY_MODEL_36a8f0d07ac7436cbc9ef17d85c62689"
          }
        },
        "8a2e150a852d4aa2a8c2bb1def6cbe7c": {
          "model_module": "@jupyter-widgets/controls",
          "model_name": "HTMLModel",
          "model_module_version": "1.5.0",
          "state": {
            "_dom_classes": [],
            "_model_module": "@jupyter-widgets/controls",
            "_model_module_version": "1.5.0",
            "_model_name": "HTMLModel",
            "_view_count": null,
            "_view_module": "@jupyter-widgets/controls",
            "_view_module_version": "1.5.0",
            "_view_name": "HTMLView",
            "description": "",
            "description_tooltip": null,
            "layout": "IPY_MODEL_70542b8d0c934ed8b23b232586aeaf56",
            "placeholder": "​",
            "style": "IPY_MODEL_67817748dc36424baae44ce2c3a8be0c",
            "value": "Dl Completed...: 100%"
          }
        },
        "980f5cb917304b8c952f395052882c50": {
          "model_module": "@jupyter-widgets/controls",
          "model_name": "FloatProgressModel",
          "model_module_version": "1.5.0",
          "state": {
            "_dom_classes": [],
            "_model_module": "@jupyter-widgets/controls",
            "_model_module_version": "1.5.0",
            "_model_name": "FloatProgressModel",
            "_view_count": null,
            "_view_module": "@jupyter-widgets/controls",
            "_view_module_version": "1.5.0",
            "_view_name": "ProgressView",
            "bar_style": "success",
            "description": "",
            "description_tooltip": null,
            "layout": "IPY_MODEL_b8d3ce19d49347b795011cbe52b6ca05",
            "max": 4,
            "min": 0,
            "orientation": "horizontal",
            "style": "IPY_MODEL_5165ebad0ed4410980419e7bef4ec431",
            "value": 4
          }
        },
        "fbeb96167e5546eabf0e59b3ba06c8cb": {
          "model_module": "@jupyter-widgets/controls",
          "model_name": "HTMLModel",
          "model_module_version": "1.5.0",
          "state": {
            "_dom_classes": [],
            "_model_module": "@jupyter-widgets/controls",
            "_model_module_version": "1.5.0",
            "_model_name": "HTMLModel",
            "_view_count": null,
            "_view_module": "@jupyter-widgets/controls",
            "_view_module_version": "1.5.0",
            "_view_name": "HTMLView",
            "description": "",
            "description_tooltip": null,
            "layout": "IPY_MODEL_385f54877644470f8beb41cbd8c1754f",
            "placeholder": "​",
            "style": "IPY_MODEL_1e2e70d7a84d496a8b4e0e31f70f671f",
            "value": " 4/4 [00:00&lt;00:00, 10.45 file/s]"
          }
        },
        "36a8f0d07ac7436cbc9ef17d85c62689": {
          "model_module": "@jupyter-widgets/base",
          "model_name": "LayoutModel",
          "model_module_version": "1.2.0",
          "state": {
            "_model_module": "@jupyter-widgets/base",
            "_model_module_version": "1.2.0",
            "_model_name": "LayoutModel",
            "_view_count": null,
            "_view_module": "@jupyter-widgets/base",
            "_view_module_version": "1.2.0",
            "_view_name": "LayoutView",
            "align_content": null,
            "align_items": null,
            "align_self": null,
            "border": null,
            "bottom": null,
            "display": null,
            "flex": null,
            "flex_flow": null,
            "grid_area": null,
            "grid_auto_columns": null,
            "grid_auto_flow": null,
            "grid_auto_rows": null,
            "grid_column": null,
            "grid_gap": null,
            "grid_row": null,
            "grid_template_areas": null,
            "grid_template_columns": null,
            "grid_template_rows": null,
            "height": null,
            "justify_content": null,
            "justify_items": null,
            "left": null,
            "margin": null,
            "max_height": null,
            "max_width": null,
            "min_height": null,
            "min_width": null,
            "object_fit": null,
            "object_position": null,
            "order": null,
            "overflow": null,
            "overflow_x": null,
            "overflow_y": null,
            "padding": null,
            "right": null,
            "top": null,
            "visibility": null,
            "width": null
          }
        },
        "70542b8d0c934ed8b23b232586aeaf56": {
          "model_module": "@jupyter-widgets/base",
          "model_name": "LayoutModel",
          "model_module_version": "1.2.0",
          "state": {
            "_model_module": "@jupyter-widgets/base",
            "_model_module_version": "1.2.0",
            "_model_name": "LayoutModel",
            "_view_count": null,
            "_view_module": "@jupyter-widgets/base",
            "_view_module_version": "1.2.0",
            "_view_name": "LayoutView",
            "align_content": null,
            "align_items": null,
            "align_self": null,
            "border": null,
            "bottom": null,
            "display": null,
            "flex": null,
            "flex_flow": null,
            "grid_area": null,
            "grid_auto_columns": null,
            "grid_auto_flow": null,
            "grid_auto_rows": null,
            "grid_column": null,
            "grid_gap": null,
            "grid_row": null,
            "grid_template_areas": null,
            "grid_template_columns": null,
            "grid_template_rows": null,
            "height": null,
            "justify_content": null,
            "justify_items": null,
            "left": null,
            "margin": null,
            "max_height": null,
            "max_width": null,
            "min_height": null,
            "min_width": null,
            "object_fit": null,
            "object_position": null,
            "order": null,
            "overflow": null,
            "overflow_x": null,
            "overflow_y": null,
            "padding": null,
            "right": null,
            "top": null,
            "visibility": null,
            "width": null
          }
        },
        "67817748dc36424baae44ce2c3a8be0c": {
          "model_module": "@jupyter-widgets/controls",
          "model_name": "DescriptionStyleModel",
          "model_module_version": "1.5.0",
          "state": {
            "_model_module": "@jupyter-widgets/controls",
            "_model_module_version": "1.5.0",
            "_model_name": "DescriptionStyleModel",
            "_view_count": null,
            "_view_module": "@jupyter-widgets/base",
            "_view_module_version": "1.2.0",
            "_view_name": "StyleView",
            "description_width": ""
          }
        },
        "b8d3ce19d49347b795011cbe52b6ca05": {
          "model_module": "@jupyter-widgets/base",
          "model_name": "LayoutModel",
          "model_module_version": "1.2.0",
          "state": {
            "_model_module": "@jupyter-widgets/base",
            "_model_module_version": "1.2.0",
            "_model_name": "LayoutModel",
            "_view_count": null,
            "_view_module": "@jupyter-widgets/base",
            "_view_module_version": "1.2.0",
            "_view_name": "LayoutView",
            "align_content": null,
            "align_items": null,
            "align_self": null,
            "border": null,
            "bottom": null,
            "display": null,
            "flex": null,
            "flex_flow": null,
            "grid_area": null,
            "grid_auto_columns": null,
            "grid_auto_flow": null,
            "grid_auto_rows": null,
            "grid_column": null,
            "grid_gap": null,
            "grid_row": null,
            "grid_template_areas": null,
            "grid_template_columns": null,
            "grid_template_rows": null,
            "height": null,
            "justify_content": null,
            "justify_items": null,
            "left": null,
            "margin": null,
            "max_height": null,
            "max_width": null,
            "min_height": null,
            "min_width": null,
            "object_fit": null,
            "object_position": null,
            "order": null,
            "overflow": null,
            "overflow_x": null,
            "overflow_y": null,
            "padding": null,
            "right": null,
            "top": null,
            "visibility": null,
            "width": null
          }
        },
        "5165ebad0ed4410980419e7bef4ec431": {
          "model_module": "@jupyter-widgets/controls",
          "model_name": "ProgressStyleModel",
          "model_module_version": "1.5.0",
          "state": {
            "_model_module": "@jupyter-widgets/controls",
            "_model_module_version": "1.5.0",
            "_model_name": "ProgressStyleModel",
            "_view_count": null,
            "_view_module": "@jupyter-widgets/base",
            "_view_module_version": "1.2.0",
            "_view_name": "StyleView",
            "bar_color": null,
            "description_width": ""
          }
        },
        "385f54877644470f8beb41cbd8c1754f": {
          "model_module": "@jupyter-widgets/base",
          "model_name": "LayoutModel",
          "model_module_version": "1.2.0",
          "state": {
            "_model_module": "@jupyter-widgets/base",
            "_model_module_version": "1.2.0",
            "_model_name": "LayoutModel",
            "_view_count": null,
            "_view_module": "@jupyter-widgets/base",
            "_view_module_version": "1.2.0",
            "_view_name": "LayoutView",
            "align_content": null,
            "align_items": null,
            "align_self": null,
            "border": null,
            "bottom": null,
            "display": null,
            "flex": null,
            "flex_flow": null,
            "grid_area": null,
            "grid_auto_columns": null,
            "grid_auto_flow": null,
            "grid_auto_rows": null,
            "grid_column": null,
            "grid_gap": null,
            "grid_row": null,
            "grid_template_areas": null,
            "grid_template_columns": null,
            "grid_template_rows": null,
            "height": null,
            "justify_content": null,
            "justify_items": null,
            "left": null,
            "margin": null,
            "max_height": null,
            "max_width": null,
            "min_height": null,
            "min_width": null,
            "object_fit": null,
            "object_position": null,
            "order": null,
            "overflow": null,
            "overflow_x": null,
            "overflow_y": null,
            "padding": null,
            "right": null,
            "top": null,
            "visibility": null,
            "width": null
          }
        },
        "1e2e70d7a84d496a8b4e0e31f70f671f": {
          "model_module": "@jupyter-widgets/controls",
          "model_name": "DescriptionStyleModel",
          "model_module_version": "1.5.0",
          "state": {
            "_model_module": "@jupyter-widgets/controls",
            "_model_module_version": "1.5.0",
            "_model_name": "DescriptionStyleModel",
            "_view_count": null,
            "_view_module": "@jupyter-widgets/base",
            "_view_module_version": "1.2.0",
            "_view_name": "StyleView",
            "description_width": ""
          }
        }
      }
    }
  },
  "nbformat": 4,
  "nbformat_minor": 0
}