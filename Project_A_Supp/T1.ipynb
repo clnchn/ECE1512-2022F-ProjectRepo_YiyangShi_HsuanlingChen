{
  "cells": [
    {
      "cell_type": "markdown",
      "metadata": {
        "id": "6WYMfvCNPwpm"
      },
      "source": [
        "# Project A: Knowledge Distillation for Building Lightweight Deep Learning Models in Visual Classification Tasks"
      ]
    },
    {
      "cell_type": "code",
      "execution_count": 14,
      "metadata": {
        "id": "vA8ppgB2P0aJ"
      },
      "outputs": [],
      "source": [
        "import tensorflow.compat.v2 as tf\n",
        "import tensorflow_datasets as tfds\n",
        "from typing import Union\n",
        "\n",
        "tf.enable_v2_behavior()\n",
        "tf.keras.utils.set_random_seed(1)\n",
        "tf.config.experimental.enable_op_determinism()\n",
        "\n",
        "builder = tfds.builder('mnist')\n",
        "BATCH_SIZE = 256\n",
        "NUM_EPOCHS = 12 # 12\n",
        "NUM_CLASSES = 10  # 10 total classes."
      ]
    },
    {
      "cell_type": "markdown",
      "metadata": {
        "id": "H2EFLQROP2R7"
      },
      "source": [
        "# Data loading"
      ]
    },
    {
      "cell_type": "code",
      "execution_count": 15,
      "metadata": {
        "id": "ynByMG_UP4A4"
      },
      "outputs": [],
      "source": [
        "# Load train and test splits.\n",
        "def preprocess(x):\n",
        "    image = tf.image.convert_image_dtype(x['image'], tf.float32)\n",
        "    subclass_labels = tf.one_hot(x['label'], builder.info.features['label'].num_classes)\n",
        "    return image, subclass_labels\n",
        "\n",
        "\n",
        "mnist_train = tfds.load('mnist', split='train', shuffle_files=False).cache()\n",
        "mnist_train = mnist_train.map(preprocess)\n",
        "mnist_train = mnist_train.shuffle(builder.info.splits['train'].num_examples)\n",
        "mnist_train = mnist_train.batch(BATCH_SIZE, drop_remainder=True)\n",
        "\n",
        "mnist_test = tfds.load('mnist', split='test').cache()\n",
        "mnist_test = mnist_test.map(preprocess).batch(BATCH_SIZE)"
      ]
    },
    {
      "cell_type": "markdown",
      "metadata": {
        "id": "kAZwfvW5P63q"
      },
      "source": [
        "# Model creation"
      ]
    },
    {
      "cell_type": "code",
      "execution_count": 16,
      "metadata": {
        "id": "zINgDkA7P7BP"
      },
      "outputs": [],
      "source": [
        "#@test {\"output\": \"ignore\"}\n",
        "\n",
        "# Build CNN teacher.\n",
        "import tensorflow.compat.v2.keras.layers as layers\n",
        "\n",
        "\n",
        "def initialize_cnn():\n",
        "  cnn_model = tf.keras.Sequential()\n",
        "\n",
        "  # your code start from here for stpe 2\n",
        "  cnn_model.add(layers.Conv2D(32, (3, 3), activation='relu', input_shape=(28, 28, 1)))\n",
        "  cnn_model.add(layers.MaxPooling2D((2, 2), strides=(1, 1)))\n",
        "  cnn_model.add(layers.Conv2D(64, (3, 3), activation='relu'))\n",
        "  cnn_model.add(layers.MaxPooling2D((2, 2), strides=(2, 2)))\n",
        "  cnn_model.add(layers.Flatten())\n",
        "  cnn_model.add(layers.Dropout(0.5))\n",
        "  cnn_model.add(layers.Dense(128, activation='relu'))\n",
        "  cnn_model.add(layers.Dropout(0.5))\n",
        "  cnn_model.add(layers.Dense(10))\n",
        "  return cnn_model\n",
        "\n",
        "\n",
        "\n",
        "def initialize_fc():\n",
        "  # Build fully connected student.\n",
        "  fc_model = tf.keras.Sequential()\n",
        "  fc_model.add(layers.Flatten())\n",
        "  fc_model.add(layers.Dense(784, activation='relu'))\n",
        "  fc_model.add(layers.Dense(784, activation='relu'))\n",
        "  fc_model.add(layers.Dense(10))\n",
        "  return fc_model\n",
        "\n",
        "cnn_model = initialize_cnn()\n",
        "fc_model = initialize_fc()\n"
      ]
    },
    {
      "cell_type": "markdown",
      "metadata": {
        "id": "8JWGucyrQGav"
      },
      "source": [
        "# Teacher loss function"
      ]
    },
    {
      "cell_type": "code",
      "execution_count": 17,
      "metadata": {
        "id": "DhzBP6ZLQJ57"
      },
      "outputs": [],
      "source": [
        "@tf.function\n",
        "def compute_teacher_loss(images, labels):\n",
        "    \"\"\"Compute subclass knowledge distillation teacher loss for given images\n",
        "     and labels.\n",
        "\n",
        "    Args:\n",
        "    images: Tensor representing a batch of images.\n",
        "    labels: Tensor representing a batch of labels.\n",
        "\n",
        "    Returns:\n",
        "    Scalar loss Tensor.\n",
        "    \"\"\"\n",
        "    subclass_logits = cnn_model(images, training=True)\n",
        "\n",
        "    # your code start from here for step 3\n",
        "\n",
        "    cross_entropy_loss_value = tf.nn.softmax_cross_entropy_with_logits(labels=labels, logits=subclass_logits)\n",
        "\n",
        "    return tf.reduce_mean(cross_entropy_loss_value)"
      ]
    },
    {
      "cell_type": "markdown",
      "metadata": {
        "id": "JS8xkuH0QbOS"
      },
      "source": [
        "# Student loss function"
      ]
    },
    {
      "cell_type": "code",
      "execution_count": 18,
      "metadata": {
        "id": "lDKia4gPQMIr"
      },
      "outputs": [],
      "source": [
        "#@test {\"output\": \"ignore\"}\n",
        "\n",
        "# Hyperparameters for distillation (need to be tuned).\n",
        "ALPHA = 0.5 # task balance between cross-entropy and distillation loss\n",
        "DISTILLATION_TEMPERATURE = 4. #temperature hyperparameter\n",
        "\n",
        "def distillation_loss(teacher_logits: tf.Tensor, student_logits: tf.Tensor,\n",
        "                      temperature: Union[float, tf.Tensor]):\n",
        "    \"\"\"Compute distillation loss.\n",
        "\n",
        "    This function computes cross entropy between softened logits and softened\n",
        "    targets. The resulting loss is scaled by the squared temperature so that\n",
        "    the gradient magnitude remains approximately constant as the temperature is\n",
        "    changed. For reference, see Hinton et al., 2014, \"Distilling the knowledge in\n",
        "    a neural network.\"\n",
        "\n",
        "    Args:\n",
        "    teacher_logits: A Tensor of logits provided by the teacher.\n",
        "    student_logits: A Tensor of logits provided by the student, of the same\n",
        "      shape as `teacher_logits`.\n",
        "    temperature: Temperature to use for distillation.\n",
        "\n",
        "    Returns:\n",
        "    A scalar Tensor containing the distillation loss.\n",
        "    \"\"\"\n",
        "    # your code start from here for step 3\n",
        "    soft_targets = tf.nn.softmax(teacher_logits / temperature)\n",
        "    '''\n",
        "    kl = tf.keras.losses.KLDivergence()\n",
        "\n",
        "\n",
        "    return tf.reduce_mean(kl(soft_targets, student_logits / temperature)) * temperature ** 2\n",
        "    '''\n",
        "    return tf.reduce_mean(tf.nn.softmax_cross_entropy_with_logits(soft_targets, student_logits / temperature)) * temperature ** 2\n",
        "\n",
        "def compute_student_loss(images, labels):\n",
        "    \"\"\"Compute subclass knowledge distillation student loss for given images\n",
        "     and labels.\n",
        "\n",
        "    Args:\n",
        "    images: Tensor representing a batch of images.\n",
        "    labels: Tensor representing a batch of labels.\n",
        "\n",
        "    Returns:\n",
        "    Scalar loss Tensor.\n",
        "    \"\"\"\n",
        "    student_subclass_logits = fc_model(images, training=True)\n",
        "\n",
        "    # Compute subclass distillation loss between student subclass logits and\n",
        "    # softened teacher subclass targets probabilities.\n",
        "\n",
        "    # your code start from here for step 3\n",
        "\n",
        "    teacher_subclass_logits = cnn_model(images, training=False)\n",
        "\n",
        "    student_loss_value = tf.nn.softmax_cross_entropy_with_logits(labels=labels, logits=student_subclass_logits)\n",
        "    student_loss_value = tf.reduce_mean(student_loss_value)\n",
        "\n",
        "    distillation_loss_value = distillation_loss(teacher_subclass_logits, student_subclass_logits, DISTILLATION_TEMPERATURE)\n",
        "    # Compute cross-entropy loss with hard targets.\n",
        "\n",
        "    # your code start from here for step 3\n",
        "    student_loss = distillation_loss_value * ALPHA + student_loss_value * (1 - ALPHA)\n",
        "    #print(distillation_loss_value.numpy())\n",
        "\n",
        "    return student_loss"
      ]
    },
    {
      "cell_type": "markdown",
      "metadata": {
        "id": "RJ1uyvurQ3w4"
      },
      "source": [
        "# Train and evaluation"
      ]
    },
    {
      "cell_type": "code",
      "execution_count": 19,
      "metadata": {
        "id": "EtoLbp8uQ4Vl"
      },
      "outputs": [],
      "source": [
        "@tf.function\n",
        "def compute_num_correct(model, images, labels):\n",
        "    \"\"\"Compute number of correctly classified images in a batch.\n",
        "\n",
        "    Args:\n",
        "    model: Instance of tf.keras.Model.\n",
        "    images: Tensor representing a batch of images.\n",
        "    labels: Tensor representing a batch of labels.\n",
        "\n",
        "    Returns:\n",
        "    Number of correctly classified images.\n",
        "    \"\"\"\n",
        "    class_logits = model(images, training=False)\n",
        "    return tf.reduce_sum(\n",
        "      tf.cast(tf.math.equal(tf.argmax(class_logits, -1), tf.argmax(labels, -1)),\n",
        "              tf.float32))\n",
        "\n",
        "\n",
        "def train_and_evaluate(model, compute_loss_fn, compute_num_correct):\n",
        "    \"\"\"Perform training and evaluation for a given model.\n",
        "\n",
        "    Args:\n",
        "    model: Instance of tf.keras.Model.\n",
        "    compute_loss_fn: A function that computes the training loss given the\n",
        "      images, and labels.\n",
        "    \"\"\"\n",
        "\n",
        "    # your code start from here for step 4\n",
        "    optimizer = tf.keras.optimizers.Adam(learning_rate=0.001)\n",
        "\n",
        "    for epoch in range(1, NUM_EPOCHS + 1):\n",
        "        # Run training.\n",
        "        print('Epoch {}: '.format(epoch), end='')\n",
        "        for images, labels in mnist_train:\n",
        "            with tf.GradientTape() as tape:\n",
        "                # your code start from here for step 4\n",
        "                loss_value = compute_loss_fn(images, labels)\n",
        "                #print(\"loss value \" + str(loss_value.numpy()))\n",
        "\n",
        "            grads = tape.gradient(loss_value, model.trainable_variables)\n",
        "            optimizer.apply_gradients(zip(grads, model.trainable_variables))\n",
        "\n",
        "        # Run evaluation.\n",
        "        num_correct = 0\n",
        "        num_total = builder.info.splits['test'].num_examples\n",
        "    \n",
        "        for images, labels in mnist_test:\n",
        "            # your code start from here for step 4\n",
        "            num_correct += compute_num_correct(model, images, labels)\n",
        "\n",
        "        print(\"Class_accuracy: \" + '{:.2f}%'.format(\n",
        "            num_correct / num_total * 100))\n"
      ]
    },
    {
      "cell_type": "markdown",
      "metadata": {
        "id": "NQL1lJdaRPT1"
      },
      "source": [
        "# Training models"
      ]
    },
    {
      "cell_type": "code",
      "execution_count": 20,
      "metadata": {
        "colab": {
          "base_uri": "https://localhost:8080/"
        },
        "id": "-AGHbyABRPz3",
        "outputId": "fd9a8d80-112b-4e44-872e-8ae8c8e32f27"
      },
      "outputs": [
        {
          "output_type": "stream",
          "name": "stdout",
          "text": [
            "------Teacher-------\n",
            "Epoch 1: Class_accuracy: 98.27%\n",
            "Epoch 2: Class_accuracy: 98.55%\n",
            "Epoch 3: Class_accuracy: 98.85%\n",
            "Epoch 4: Class_accuracy: 99.01%\n",
            "Epoch 5: Class_accuracy: 98.94%\n",
            "Epoch 6: Class_accuracy: 99.03%\n",
            "Epoch 7: Class_accuracy: 98.88%\n",
            "Epoch 8: Class_accuracy: 99.15%\n",
            "Epoch 9: Class_accuracy: 99.20%\n",
            "Epoch 10: Class_accuracy: 99.14%\n",
            "Epoch 11: Class_accuracy: 99.19%\n",
            "Epoch 12: Class_accuracy: 99.29%\n"
          ]
        }
      ],
      "source": [
        "# your code start from here for step 5 \n",
        "print(\"------Teacher-------\")\n",
        "train_and_evaluate(cnn_model, compute_teacher_loss, compute_num_correct)\n"
      ]
    },
    {
      "cell_type": "code",
      "source": [
        "print(\"------Student-------\")\n",
        "train_and_evaluate(fc_model, compute_student_loss, compute_num_correct)"
      ],
      "metadata": {
        "colab": {
          "base_uri": "https://localhost:8080/"
        },
        "id": "xC9D2wQbktAx",
        "outputId": "d4aa9d16-97e2-46dd-99e2-57238177c98a"
      },
      "execution_count": 21,
      "outputs": [
        {
          "output_type": "stream",
          "name": "stdout",
          "text": [
            "------Student-------\n",
            "Epoch 1: Class_accuracy: 96.70%\n",
            "Epoch 2: Class_accuracy: 97.86%\n",
            "Epoch 3: Class_accuracy: 98.22%\n",
            "Epoch 4: Class_accuracy: 98.37%\n",
            "Epoch 5: Class_accuracy: 98.54%\n",
            "Epoch 6: Class_accuracy: 98.54%\n",
            "Epoch 7: Class_accuracy: 98.75%\n",
            "Epoch 8: Class_accuracy: 98.65%\n",
            "Epoch 9: Class_accuracy: 98.76%\n",
            "Epoch 10: Class_accuracy: 98.72%\n",
            "Epoch 11: Class_accuracy: 98.70%\n",
            "Epoch 12: Class_accuracy: 98.85%\n"
          ]
        }
      ]
    },
    {
      "cell_type": "markdown",
      "metadata": {
        "id": "sj1N38fnRTNB"
      },
      "source": [
        "# Test accuracy vs. tempreture curve"
      ]
    },
    {
      "cell_type": "code",
      "execution_count": 22,
      "metadata": {
        "id": "gX4dbazrRWIz",
        "outputId": "fa7ce591-f7f6-424f-af87-101194dca9d3",
        "colab": {
          "base_uri": "https://localhost:8080/",
          "height": 1000
        }
      },
      "outputs": [
        {
          "output_type": "stream",
          "name": "stdout",
          "text": [
            "Temperature = 1\n",
            "Class_accuracy: 98.25%\n",
            "Class_accuracy: 98.59%\n",
            "Class_accuracy: 98.45%\n",
            "Class_accuracy: 98.59%\n",
            "Class_accuracy: 98.60%\n",
            "Class_accuracy: 98.21%\n",
            "Class_accuracy: 98.52%\n",
            "Class_accuracy: 98.53%\n",
            "Class_accuracy: 98.32%\n",
            "Class_accuracy: 98.51%\n",
            "Class_accuracy: 98.80%\n",
            "Class_accuracy: 98.80%\n",
            "Temperature = 2\n",
            "Class_accuracy: 98.77%\n",
            "Class_accuracy: 98.74%\n",
            "Class_accuracy: 98.78%\n",
            "Class_accuracy: 98.74%\n",
            "Class_accuracy: 98.78%\n",
            "Class_accuracy: 98.67%\n",
            "Class_accuracy: 98.77%\n",
            "Class_accuracy: 98.81%\n",
            "Class_accuracy: 98.85%\n",
            "Class_accuracy: 98.71%\n",
            "Class_accuracy: 98.84%\n",
            "Class_accuracy: 98.79%\n",
            "Temperature = 4\n",
            "Class_accuracy: 98.78%\n",
            "Class_accuracy: 98.87%\n",
            "Class_accuracy: 98.94%\n",
            "Class_accuracy: 98.84%\n",
            "Class_accuracy: 98.89%\n",
            "Class_accuracy: 98.96%\n",
            "Class_accuracy: 98.99%\n",
            "Class_accuracy: 98.89%\n",
            "Class_accuracy: 98.92%\n",
            "Class_accuracy: 98.90%\n",
            "Class_accuracy: 98.86%\n",
            "Class_accuracy: 98.97%\n",
            "Temperature = 16\n",
            "Class_accuracy: 98.89%\n",
            "Class_accuracy: 98.96%\n",
            "Class_accuracy: 99.01%\n",
            "Class_accuracy: 98.98%\n",
            "Class_accuracy: 99.01%\n",
            "Class_accuracy: 98.98%\n",
            "Class_accuracy: 98.99%\n",
            "Class_accuracy: 98.98%\n",
            "Class_accuracy: 98.96%\n",
            "Class_accuracy: 99.02%\n",
            "Class_accuracy: 98.95%\n",
            "Class_accuracy: 98.98%\n",
            "Temperature = 32\n",
            "Class_accuracy: 99.01%\n",
            "Class_accuracy: 98.98%\n",
            "Class_accuracy: 98.97%\n",
            "Class_accuracy: 98.97%\n",
            "Class_accuracy: 98.93%\n",
            "Class_accuracy: 98.93%\n",
            "Class_accuracy: 98.97%\n",
            "Class_accuracy: 99.00%\n",
            "Class_accuracy: 98.97%\n",
            "Class_accuracy: 98.98%\n",
            "Class_accuracy: 98.92%\n",
            "Class_accuracy: 98.98%\n",
            "Temperature = 64\n",
            "Class_accuracy: 98.99%\n",
            "Class_accuracy: 98.95%\n",
            "Class_accuracy: 98.94%\n",
            "Class_accuracy: 98.97%\n",
            "Class_accuracy: 98.93%\n",
            "Class_accuracy: 98.97%\n",
            "Class_accuracy: 98.96%\n",
            "Class_accuracy: 98.97%\n",
            "Class_accuracy: 98.94%\n",
            "Class_accuracy: 98.97%\n",
            "Class_accuracy: 98.93%\n",
            "Class_accuracy: 98.93%\n"
          ]
        },
        {
          "output_type": "display_data",
          "data": {
            "text/plain": [
              "<Figure size 432x288 with 1 Axes>"
            ],
            "image/png": "[encoded data removed]"
          },
          "metadata": {
            "needs_background": "light"
          }
        }
      ],
      "source": [
        "# your code start from here for step 6\n",
        "#6. Plot a curve representing student test accuracy vs. temperature hyperparameters (T = 1,2,4,16,32, and 64) \n",
        "#when the task balance parameter is 0.5. \n",
        "#Explain the effect of temperature hyperparameter in this experiment. [1 Marks]\n",
        "\n",
        "def compute_student_loss_plot(images, labels, temperature, alpha=0.5):\n",
        "  student_class_logits = fc_model(images, training=True)\n",
        "  teacher_class_logits = cnn_model(images, training=False)\n",
        "  \n",
        "  distillation_loss_value = distillation_loss(teacher_class_logits, student_class_logits, temperature)\n",
        "  \n",
        "  student_loss = tf.reduce_mean(tf.nn.softmax_cross_entropy_with_logits(labels, student_class_logits))\n",
        "  cross_entropy_loss_value = alpha * student_loss + (1 - alpha) * distillation_loss_value\n",
        "  return cross_entropy_loss_value\n",
        "\n",
        "def train_and_evaluate_plot(model, compute_loss_fn, temperature, alpha=0.5):\n",
        "  \"\"\"Perform training and evaluation for a given model.\n",
        "\n",
        "  Args:\n",
        "  model: Instance of tf.keras.Model.\n",
        "  compute_loss_fn: A function that computes the training loss given the\n",
        "  images, and labels.\n",
        "  \"\"\"\n",
        "  optimizer = tf.keras.optimizers.Adam(learning_rate=0.001)\n",
        "  test_accuracy = []\n",
        "\n",
        "  for epoch in range(1, NUM_EPOCHS + 1):\n",
        "    # Run training.\n",
        "    for images, labels in mnist_train:\n",
        "      with tf.GradientTape() as tape:\n",
        "        # your code start from here for step 4\n",
        "        loss_value = compute_loss_fn(images, labels, temperature, alpha=0.5)\n",
        "\n",
        "      grads = tape.gradient(loss_value, model.trainable_variables)\n",
        "      optimizer.apply_gradients(zip(grads, model.trainable_variables))\n",
        "\n",
        "    # Run evaluation.\n",
        "    num_correct = 0\n",
        "    num_total = builder.info.splits['test'].num_examples\n",
        "    \n",
        "    for images, labels in mnist_test:\n",
        "      # your code start from here for step 4\n",
        "      num_correct += compute_num_correct(model, images, labels)\n",
        "    print(\"Class_accuracy: \" + '{:.2f}%'.format(\n",
        "         num_correct / num_total * 100))\n",
        "    test_accuracy.append(num_correct / num_total * 100)\n",
        "  return test_accuracy\n",
        "\n",
        "# your code start from here for step 6\n",
        "import matplotlib.pyplot as plt\n",
        "\n",
        "T = [1,2,4,16,32,64]\n",
        "TEST_ACCUR = []\n",
        "epoch = [i for i in range(1, NUM_EPOCHS + 1)]\n",
        "\n",
        "for t in T:\n",
        "  print(f'Temperature = {t}')\n",
        "  test_accuracy = train_and_evaluate_plot(fc_model,compute_student_loss_plot, t)\n",
        "  temp = str(t)\n",
        "  temp,  = plt.plot(epoch, test_accuracy, label=f'T = {t}')\n",
        "  TEST_ACCUR.append(temp)\n",
        "\n",
        "plt.title('Model Accuracy')\n",
        "plt.ylabel('accuracy')\n",
        "plt.xlabel('epoch')\n",
        "plt.legend(handles=TEST_ACCUR)\n",
        "plt.show()\n"
      ]
    },
    {
      "cell_type": "markdown",
      "metadata": {
        "id": "WNrH_1emRbGA"
      },
      "source": [
        "# Train student from scratch"
      ]
    },
    {
      "cell_type": "code",
      "execution_count": 23,
      "metadata": {
        "id": "HjospsxIRbQ6",
        "outputId": "9bc1b74c-b575-4c05-faaf-794df0a7098f",
        "colab": {
          "base_uri": "https://localhost:8080/"
        }
      },
      "outputs": [
        {
          "output_type": "stream",
          "name": "stdout",
          "text": [
            "Epoch 1: Class_accuracy: 95.99%\n",
            "Epoch 2: Class_accuracy: 97.47%\n",
            "Epoch 3: Class_accuracy: 97.93%\n",
            "Epoch 4: Class_accuracy: 97.89%\n",
            "Epoch 5: Class_accuracy: 97.91%\n",
            "Epoch 6: Class_accuracy: 97.80%\n",
            "Epoch 7: Class_accuracy: 98.33%\n",
            "Epoch 8: Class_accuracy: 97.98%\n",
            "Epoch 9: Class_accuracy: 98.09%\n",
            "Epoch 10: Class_accuracy: 98.19%\n",
            "Epoch 11: Class_accuracy: 97.87%\n",
            "Epoch 12: Class_accuracy: 98.11%\n"
          ]
        }
      ],
      "source": [
        "# Build fully connected student.\n",
        "fc_model_no_distillation = tf.keras.Sequential()\n",
        "\n",
        "# your code start from here for step 7\n",
        "fc_model_no_distillation.add(layers.Flatten())\n",
        "fc_model_no_distillation.add(layers.Dense(784, activation='relu'))\n",
        "fc_model_no_distillation.add(layers.Dense(784, activation='relu'))\n",
        "fc_model_no_distillation.add(layers.Dense(10))\n",
        "\n",
        "\n",
        "\n",
        "#@test {\"output\": \"ignore\"}\n",
        "\n",
        "def compute_plain_cross_entropy_loss(images, labels):\n",
        "  \"\"\"Compute plain loss for given images and labels.\n",
        "\n",
        "  For fair comparison and convenience, this function also performs a\n",
        "  LogSumExp over subclasses, but does not perform subclass distillation.\n",
        "\n",
        "  Args:\n",
        "    images: Tensor representing a batch of images.\n",
        "    labels: Tensor representing a batch of labels.\n",
        "\n",
        "  Returns:\n",
        "    Scalar loss Tensor.\n",
        "  \"\"\"\n",
        "  # your code start from here for step 7\n",
        "\n",
        "  student_subclass_logits = fc_model_no_distillation(images, training=True)\n",
        "  cross_entropy_loss = tf.nn.softmax_cross_entropy_with_logits(labels=labels, logits=student_subclass_logits)\n",
        "  \n",
        "  return cross_entropy_loss\n",
        "\n",
        "#Best to include an average \n",
        "train_and_evaluate(fc_model_no_distillation, compute_plain_cross_entropy_loss, compute_num_correct)"
      ]
    },
    {
      "cell_type": "markdown",
      "metadata": {
        "id": "yq3JTpQ4RuhR"
      },
      "source": [
        "# Comparing the teacher and student model (number of of parameters and FLOPs) "
      ]
    },
    {
      "cell_type": "code",
      "execution_count": 24,
      "metadata": {
        "id": "4V8GB2yRRuxF",
        "colab": {
          "base_uri": "https://localhost:8080/"
        },
        "outputId": "2bcfe42d-14bd-49bf-ff4b-dbe65b349ef3"
      },
      "outputs": [
        {
          "output_type": "stream",
          "name": "stdout",
          "text": [
            "Looking in indexes: https://pypi.org/simple, https://us-python.pkg.dev/colab-wheels/public/simple/\n",
            "Requirement already satisfied: keras-flops in /usr/local/lib/python3.7/dist-packages (0.1.2)\n",
            "Requirement already satisfied: tensorflow<3.0,>=2.2 in /usr/local/lib/python3.7/dist-packages (from keras-flops) (2.9.2)\n",
            "Requirement already satisfied: astunparse>=1.6.0 in /usr/local/lib/python3.7/dist-packages (from tensorflow<3.0,>=2.2->keras-flops) (1.6.3)\n",
            "Requirement already satisfied: keras-preprocessing>=1.1.1 in /usr/local/lib/python3.7/dist-packages (from tensorflow<3.0,>=2.2->keras-flops) (1.1.2)\n",
            "Requirement already satisfied: numpy>=1.20 in /usr/local/lib/python3.7/dist-packages (from tensorflow<3.0,>=2.2->keras-flops) (1.21.6)\n",
            "Requirement already satisfied: tensorflow-io-gcs-filesystem>=0.23.1 in /usr/local/lib/python3.7/dist-packages (from tensorflow<3.0,>=2.2->keras-flops) (0.27.0)\n",
            "Requirement already satisfied: termcolor>=1.1.0 in /usr/local/lib/python3.7/dist-packages (from tensorflow<3.0,>=2.2->keras-flops) (2.0.1)\n",
            "Requirement already satisfied: protobuf<3.20,>=3.9.2 in /usr/local/lib/python3.7/dist-packages (from tensorflow<3.0,>=2.2->keras-flops) (3.17.3)\n",
            "Requirement already satisfied: six>=1.12.0 in /usr/local/lib/python3.7/dist-packages (from tensorflow<3.0,>=2.2->keras-flops) (1.15.0)\n",
            "Requirement already satisfied: opt-einsum>=2.3.2 in /usr/local/lib/python3.7/dist-packages (from tensorflow<3.0,>=2.2->keras-flops) (3.3.0)\n",
            "Requirement already satisfied: tensorflow-estimator<2.10.0,>=2.9.0rc0 in /usr/local/lib/python3.7/dist-packages (from tensorflow<3.0,>=2.2->keras-flops) (2.9.0)\n",
            "Requirement already satisfied: typing-extensions>=3.6.6 in /usr/local/lib/python3.7/dist-packages (from tensorflow<3.0,>=2.2->keras-flops) (4.1.1)\n",
            "Requirement already satisfied: tensorboard<2.10,>=2.9 in /usr/local/lib/python3.7/dist-packages (from tensorflow<3.0,>=2.2->keras-flops) (2.9.1)\n",
            "Requirement already satisfied: setuptools in /usr/local/lib/python3.7/dist-packages (from tensorflow<3.0,>=2.2->keras-flops) (57.4.0)\n",
            "Requirement already satisfied: gast<=0.4.0,>=0.2.1 in /usr/local/lib/python3.7/dist-packages (from tensorflow<3.0,>=2.2->keras-flops) (0.4.0)\n",
            "Requirement already satisfied: absl-py>=1.0.0 in /usr/local/lib/python3.7/dist-packages (from tensorflow<3.0,>=2.2->keras-flops) (1.3.0)\n",
            "Requirement already satisfied: flatbuffers<2,>=1.12 in /usr/local/lib/python3.7/dist-packages (from tensorflow<3.0,>=2.2->keras-flops) (1.12)\n",
            "Requirement already satisfied: wrapt>=1.11.0 in /usr/local/lib/python3.7/dist-packages (from tensorflow<3.0,>=2.2->keras-flops) (1.14.1)\n",
            "Requirement already satisfied: libclang>=13.0.0 in /usr/local/lib/python3.7/dist-packages (from tensorflow<3.0,>=2.2->keras-flops) (14.0.6)\n",
            "Requirement already satisfied: google-pasta>=0.1.1 in /usr/local/lib/python3.7/dist-packages (from tensorflow<3.0,>=2.2->keras-flops) (0.2.0)\n",
            "Requirement already satisfied: packaging in /usr/local/lib/python3.7/dist-packages (from tensorflow<3.0,>=2.2->keras-flops) (21.3)\n",
            "Requirement already satisfied: grpcio<2.0,>=1.24.3 in /usr/local/lib/python3.7/dist-packages (from tensorflow<3.0,>=2.2->keras-flops) (1.50.0)\n",
            "Requirement already satisfied: h5py>=2.9.0 in /usr/local/lib/python3.7/dist-packages (from tensorflow<3.0,>=2.2->keras-flops) (3.1.0)\n",
            "Requirement already satisfied: keras<2.10.0,>=2.9.0rc0 in /usr/local/lib/python3.7/dist-packages (from tensorflow<3.0,>=2.2->keras-flops) (2.9.0)\n",
            "Requirement already satisfied: wheel<1.0,>=0.23.0 in /usr/local/lib/python3.7/dist-packages (from astunparse>=1.6.0->tensorflow<3.0,>=2.2->keras-flops) (0.37.1)\n",
            "Requirement already satisfied: cached-property in /usr/local/lib/python3.7/dist-packages (from h5py>=2.9.0->tensorflow<3.0,>=2.2->keras-flops) (1.5.2)\n",
            "Requirement already satisfied: tensorboard-data-server<0.7.0,>=0.6.0 in /usr/local/lib/python3.7/dist-packages (from tensorboard<2.10,>=2.9->tensorflow<3.0,>=2.2->keras-flops) (0.6.1)\n",
            "Requirement already satisfied: markdown>=2.6.8 in /usr/local/lib/python3.7/dist-packages (from tensorboard<2.10,>=2.9->tensorflow<3.0,>=2.2->keras-flops) (3.4.1)\n",
            "Requirement already satisfied: tensorboard-plugin-wit>=1.6.0 in /usr/local/lib/python3.7/dist-packages (from tensorboard<2.10,>=2.9->tensorflow<3.0,>=2.2->keras-flops) (1.8.1)\n",
            "Requirement already satisfied: requests<3,>=2.21.0 in /usr/local/lib/python3.7/dist-packages (from tensorboard<2.10,>=2.9->tensorflow<3.0,>=2.2->keras-flops) (2.23.0)\n",
            "Requirement already satisfied: google-auth<3,>=1.6.3 in /usr/local/lib/python3.7/dist-packages (from tensorboard<2.10,>=2.9->tensorflow<3.0,>=2.2->keras-flops) (1.35.0)\n",
            "Requirement already satisfied: google-auth-oauthlib<0.5,>=0.4.1 in /usr/local/lib/python3.7/dist-packages (from tensorboard<2.10,>=2.9->tensorflow<3.0,>=2.2->keras-flops) (0.4.6)\n",
            "Requirement already satisfied: werkzeug>=1.0.1 in /usr/local/lib/python3.7/dist-packages (from tensorboard<2.10,>=2.9->tensorflow<3.0,>=2.2->keras-flops) (1.0.1)\n",
            "Requirement already satisfied: cachetools<5.0,>=2.0.0 in /usr/local/lib/python3.7/dist-packages (from google-auth<3,>=1.6.3->tensorboard<2.10,>=2.9->tensorflow<3.0,>=2.2->keras-flops) (4.2.4)\n",
            "Requirement already satisfied: rsa<5,>=3.1.4 in /usr/local/lib/python3.7/dist-packages (from google-auth<3,>=1.6.3->tensorboard<2.10,>=2.9->tensorflow<3.0,>=2.2->keras-flops) (4.9)\n",
            "Requirement already satisfied: pyasn1-modules>=0.2.1 in /usr/local/lib/python3.7/dist-packages (from google-auth<3,>=1.6.3->tensorboard<2.10,>=2.9->tensorflow<3.0,>=2.2->keras-flops) (0.2.8)\n",
            "Requirement already satisfied: requests-oauthlib>=0.7.0 in /usr/local/lib/python3.7/dist-packages (from google-auth-oauthlib<0.5,>=0.4.1->tensorboard<2.10,>=2.9->tensorflow<3.0,>=2.2->keras-flops) (1.3.1)\n",
            "Requirement already satisfied: importlib-metadata>=4.4 in /usr/local/lib/python3.7/dist-packages (from markdown>=2.6.8->tensorboard<2.10,>=2.9->tensorflow<3.0,>=2.2->keras-flops) (4.13.0)\n",
            "Requirement already satisfied: zipp>=0.5 in /usr/local/lib/python3.7/dist-packages (from importlib-metadata>=4.4->markdown>=2.6.8->tensorboard<2.10,>=2.9->tensorflow<3.0,>=2.2->keras-flops) (3.9.0)\n",
            "Requirement already satisfied: pyasn1<0.5.0,>=0.4.6 in /usr/local/lib/python3.7/dist-packages (from pyasn1-modules>=0.2.1->google-auth<3,>=1.6.3->tensorboard<2.10,>=2.9->tensorflow<3.0,>=2.2->keras-flops) (0.4.8)\n",
            "Requirement already satisfied: idna<3,>=2.5 in /usr/local/lib/python3.7/dist-packages (from requests<3,>=2.21.0->tensorboard<2.10,>=2.9->tensorflow<3.0,>=2.2->keras-flops) (2.10)\n",
            "Requirement already satisfied: certifi>=2017.4.17 in /usr/local/lib/python3.7/dist-packages (from requests<3,>=2.21.0->tensorboard<2.10,>=2.9->tensorflow<3.0,>=2.2->keras-flops) (2022.9.24)\n",
            "Requirement already satisfied: urllib3!=1.25.0,!=1.25.1,<1.26,>=1.21.1 in /usr/local/lib/python3.7/dist-packages (from requests<3,>=2.21.0->tensorboard<2.10,>=2.9->tensorflow<3.0,>=2.2->keras-flops) (1.24.3)\n",
            "Requirement already satisfied: chardet<4,>=3.0.2 in /usr/local/lib/python3.7/dist-packages (from requests<3,>=2.21.0->tensorboard<2.10,>=2.9->tensorflow<3.0,>=2.2->keras-flops) (3.0.4)\n",
            "Requirement already satisfied: oauthlib>=3.0.0 in /usr/local/lib/python3.7/dist-packages (from requests-oauthlib>=0.7.0->google-auth-oauthlib<0.5,>=0.4.1->tensorboard<2.10,>=2.9->tensorflow<3.0,>=2.2->keras-flops) (3.2.2)\n",
            "Requirement already satisfied: pyparsing!=3.0.5,>=2.0.2 in /usr/local/lib/python3.7/dist-packages (from packaging->tensorflow<3.0,>=2.2->keras-flops) (3.0.9)\n"
          ]
        },
        {
          "output_type": "stream",
          "name": "stderr",
          "text": [
            "WARNING:tensorflow:Layers in a Sequential model should only have a single input tensor. Received: inputs=[<tf.Tensor 'args_0:0' shape=(1, 28, 28, 1) dtype=float32>]. Consider rewriting this model with the Functional API.\n",
            "WARNING:tensorflow:Layers in a Sequential model should only have a single input tensor. Received: inputs=[<tf.Tensor 'args_0:0' shape=(1, 28, 28, 1) dtype=float32>]. Consider rewriting this model with the Functional API.\n"
          ]
        },
        {
          "output_type": "stream",
          "name": "stdout",
          "text": [
            "Teacher_flops: 0.022 G\n",
            "Student_flops: 0.00248 G\n",
            "Student_no_dist_flops: 0.00248 G\n"
          ]
        }
      ],
      "source": [
        "!pip install keras-flops\n",
        "# your code start from here for step 8\n",
        "from keras_flops import get_flops\n",
        "# use get_flops\n",
        "\n",
        "#Teacher: \n",
        "teacher_flops = get_flops(cnn_model, batch_size=1)\n",
        "print(f\"Teacher_flops: {teacher_flops / 10 ** 9:.03} G\")\n",
        "#Student: \n",
        "student_flops = get_flops(fc_model, batch_size=1)\n",
        "print(f\"Student_flops: {student_flops / 10 ** 9:.03} G\")\n",
        "\n",
        "student_no_dist_flops = get_flops(fc_model_no_distillation, batch_size=1)\n",
        "print(f\"Student_no_dist_flops: {student_no_dist_flops / 10 ** 9:.03} G\")"
      ]
    },
    {
      "cell_type": "markdown",
      "metadata": {
        "id": "KjwJ5oziRvRn"
      },
      "source": [
        "# Implementing the state-of-the-art KD algorithm"
      ]
    },
    {
      "cell_type": "code",
      "execution_count": 25,
      "metadata": {
        "id": "q10lybAFRvZt"
      },
      "outputs": [],
      "source": [
        "import numpy as np\n",
        "\n",
        "# your code start from here for step 12\n",
        "class CNN_SubClass:\n",
        "  def __init__(self, num_of_subclass, temperature, beta):\n",
        "    self.num_of_subclass = num_of_subclass\n",
        "    self.temperature = temperature\n",
        "    self.beta = beta\n",
        "    self.model = tf.keras.Sequential()\n",
        "\n",
        "    # your code start from here for stpe 2\n",
        "    self.model.add(layers.Conv2D(32, (3, 3), activation='relu', input_shape=(28, 28, 1)))\n",
        "    self.model.add(layers.MaxPooling2D((2, 2), strides=(1, 1)))\n",
        "    self.model.add(layers.Conv2D(64, (3, 3), activation='relu'))\n",
        "    self.model.add(layers.MaxPooling2D((2, 2), strides=(2, 2)))\n",
        "    self.model.add(layers.Flatten())\n",
        "    self.model.add(layers.Dropout(0.5))\n",
        "    self.model.add(layers.Dense(128, activation='relu'))\n",
        "    self.model.add(layers.Dropout(0.5))\n",
        "    self.model.add(layers.Dense(10*num_of_subclass))\n",
        "  \n",
        "  def loss_function(self, images, labels):\n",
        "\n",
        "    subclass_logits = self.model(images, training=True)\n",
        "    # tf.shape(subclass_logits)[0] is batch size \n",
        "    # sum all subclass of a class, get back size 256 x 10 logits \n",
        "    class_logits = tf.reduce_sum(tf.reshape(subclass_logits, (tf.shape(subclass_logits)[0], 10, self.num_of_subclass)),axis=2)\n",
        "    cross_entropy_loss_value = tf.reduce_mean(tf.nn.softmax_cross_entropy_with_logits(labels=labels, logits=class_logits))\n",
        "\n",
        "\n",
        "    mean = tf.math.reduce_mean(subclass_logits, axis=1)\n",
        "    var = tf.math.reduce_variance(subclass_logits, axis=1)\n",
        "\n",
        "\n",
        "    \n",
        "    normalize = tf.keras.layers.Normalization(axis=0, mean=mean, variance=var)\n",
        "    normalized_logits = normalize(subclass_logits)\n",
        "  \n",
        "    # dot product to get to 256 by 256 size \n",
        "    # input 256 * 20, so M dot M.T\n",
        "    \n",
        "    # summing all rows to get exponential sum \n",
        "    exp_sum = tf.reduce_sum(\n",
        "        #dot product of normalized logit with it self\n",
        "        tf.math.exp(tf.matmul(\n",
        "            normalized_logits, \n",
        "            tf.transpose(normalized_logits)) / self.temperature),\n",
        "            axis=1)\n",
        "  \n",
        "    \n",
        "    log_avg = tf.reduce_mean(tf.math.log(exp_sum))\n",
        "    # n = batch size \n",
        "    aux_loss = log_avg - 1 / self.temperature - np.log(tf.shape(subclass_logits)[0])\n",
        "    #print(aux_loss)\n",
        "\n",
        "    total_loss = cross_entropy_loss_value  + self.beta * aux_loss\n",
        "\n",
        "    #print(total_loss)\n",
        "\n",
        "    return total_loss \n",
        "  \n",
        "  def compute_num_correct(self, model, images, labels):\n",
        "    subclass_logits = model(images, training=False)\n",
        "    # tf.shape(subclass_logits)[0] is batch size \n",
        "    class_logits = tf.reduce_sum(tf.reshape(subclass_logits, (tf.shape(subclass_logits)[0], 10, self.num_of_subclass)),axis=2)\n",
        "    \n",
        "    return tf.reduce_sum(\n",
        "      tf.cast(tf.math.equal(tf.argmax(class_logits, -1), tf.argmax(labels, -1)),\n",
        "              tf.float32))\n",
        "  \n",
        "\n",
        "\n",
        "\n",
        "\n",
        "\n"
      ]
    },
    {
      "cell_type": "code",
      "source": [
        "class FC_SubClass:\n",
        "  def __init__(self, num_of_subclass, temperature, alpha):\n",
        "    self.num_of_subclass = num_of_subclass\n",
        "    self.temperature = temperature\n",
        "    self.alpha = alpha\n",
        "    self.model = tf.keras.Sequential()\n",
        "\n",
        "    # your code start from here for stpe 2\n",
        "    self.model = tf.keras.Sequential()\n",
        "    self.model.add(layers.Flatten())\n",
        "    self.model.add(layers.Dense(784, activation='relu'))\n",
        "    self.model.add(layers.Dense(784, activation='relu'))\n",
        "    self.model.add(layers.Dense(10*num_of_subclass))\n",
        "\n",
        "  def compute_num_correct(self, model, images, labels):\n",
        "    subclass_logits = model(images, training=False)\n",
        "    # tf.shape(subclass_logits)[0] is batch size \n",
        "    class_logits = tf.reduce_sum(tf.reshape(subclass_logits, (tf.shape(subclass_logits)[0], 10, self.num_of_subclass)),axis=2)\n",
        "    \n",
        "    return tf.reduce_sum(\n",
        "      tf.cast(tf.math.equal(tf.argmax(class_logits, -1), tf.argmax(labels, -1)),\n",
        "              tf.float32))\n",
        "    \n",
        "\n",
        "  def distillation_loss(teacher_logits: tf.Tensor, student_logits: tf.Tensor,\n",
        "                      temperature: Union[float, tf.Tensor]):\n",
        "    \n",
        "    soft_targets = tf.nn.softmax(teacher_logits / temperature)\n",
        "    return tf.reduce_mean(tf.nn.softmax_cross_entropy_with_logits(soft_targets, student_logits / temperature)) * temperature ** 2\n",
        "    \n",
        "  def loss_function(self, images, labels, teacher_model):\n",
        "\n",
        "    student_subclass_logits = self.model(images, training=True)\n",
        "\n",
        "    class_logits = tf.reduce_sum(tf.reshape(student_subclass_logits, (tf.shape(student_subclass_logits)[0], 10, self.num_of_subclass)),axis=2)\n",
        "\n",
        "    # Compute subclass distillation loss between student subclass logits and\n",
        "    # softened teacher subclass targets probabilities.\n",
        "\n",
        "    # your code start from here for step 3\n",
        "\n",
        "    teacher_subclass_logits = teacher_model(images, training=False)\n",
        "\n",
        "    student_loss_value = tf.nn.softmax_cross_entropy_with_logits(labels=labels, logits=class_logits)\n",
        "    student_loss_value = tf.reduce_mean(student_loss_value)\n",
        "\n",
        "    distillation_loss_value = distillation_loss(teacher_subclass_logits, student_subclass_logits, DISTILLATION_TEMPERATURE)\n",
        "    # Compute cross-entropy loss with hard targets.\n",
        "\n",
        "    # your code start from here for step 3\n",
        "    student_loss = distillation_loss_value * ALPHA + student_loss_value * (1 - ALPHA)\n",
        "\n",
        "    return student_loss \n",
        "  \n",
        "  \n",
        "\n"
      ],
      "metadata": {
        "id": "i5bFRwPEYWet"
      },
      "execution_count": 26,
      "outputs": []
    },
    {
      "cell_type": "code",
      "source": [
        "def train_and_evaluate_student(model, teacher_model, compute_loss_fn, compute_num_correct):\n",
        "    \"\"\"Perform training and evaluation for a given model.\n",
        "\n",
        "    Args:\n",
        "    model: Instance of tf.keras.Model.\n",
        "    compute_loss_fn: A function that computes the training loss given the\n",
        "      images, and labels.\n",
        "    \"\"\"\n",
        "\n",
        "    # your code start from here for step 4\n",
        "    optimizer = tf.keras.optimizers.Adam(learning_rate=0.001)\n",
        "\n",
        "    for epoch in range(1, NUM_EPOCHS + 1):\n",
        "        # Run training.\n",
        "        print('Epoch {}: '.format(epoch), end='')\n",
        "        for images, labels in mnist_train:\n",
        "            with tf.GradientTape() as tape:\n",
        "                # your code start from here for step 4\n",
        "                loss_value = compute_loss_fn(images, labels, teacher_model)\n",
        "                #print(\"loss value \" + str(loss_value.numpy()))\n",
        "\n",
        "            grads = tape.gradient(loss_value, model.trainable_variables)\n",
        "            optimizer.apply_gradients(zip(grads, model.trainable_variables))\n",
        "\n",
        "        # Run evaluation.\n",
        "        num_correct = 0\n",
        "        num_total = builder.info.splits['test'].num_examples\n",
        "    \n",
        "        for images, labels in mnist_test:\n",
        "            # your code start from here for step 4\n",
        "            num_correct += compute_num_correct(model, images, labels)\n",
        "\n",
        "        print(\"Class_accuracy: \" + '{:.2f}%'.format(\n",
        "            num_correct / num_total * 100))"
      ],
      "metadata": {
        "id": "cvHlXVIJa7-X"
      },
      "execution_count": 27,
      "outputs": []
    },
    {
      "cell_type": "code",
      "source": [
        "updated_cnn = CNN_SubClass(2, 20, 0.3)\n",
        "train_and_evaluate(updated_cnn.model, updated_cnn.loss_function, updated_cnn.compute_num_correct)\n"
      ],
      "metadata": {
        "colab": {
          "base_uri": "https://localhost:8080/"
        },
        "id": "BSWqaTp6YUDu",
        "outputId": "e8b1ca0f-f412-4a4f-cf64-c2254364001d"
      },
      "execution_count": 28,
      "outputs": [
        {
          "output_type": "stream",
          "name": "stdout",
          "text": [
            "Epoch 1: Class_accuracy: 98.12%\n",
            "Epoch 2: Class_accuracy: 98.79%\n",
            "Epoch 3: Class_accuracy: 98.89%\n",
            "Epoch 4: Class_accuracy: 99.07%\n",
            "Epoch 5: Class_accuracy: 99.01%\n",
            "Epoch 6: Class_accuracy: 99.16%\n",
            "Epoch 7: Class_accuracy: 99.22%\n",
            "Epoch 8: Class_accuracy: 99.17%\n",
            "Epoch 9: Class_accuracy: 99.27%\n",
            "Epoch 10: Class_accuracy: 99.20%\n",
            "Epoch 11: Class_accuracy: 99.20%\n",
            "Epoch 12: Class_accuracy: 99.25%\n"
          ]
        }
      ]
    },
    {
      "cell_type": "code",
      "source": [
        "updated_fc = FC_SubClass(2, 4, 0.5)\n",
        "train_and_evaluate_student(updated_fc.model, updated_cnn.model, updated_fc.loss_function, updated_fc.compute_num_correct)"
      ],
      "metadata": {
        "colab": {
          "base_uri": "https://localhost:8080/"
        },
        "id": "affAeAxRbhrx",
        "outputId": "0f99df44-04cc-4e88-cedc-717792f30a97"
      },
      "execution_count": 29,
      "outputs": [
        {
          "output_type": "stream",
          "name": "stdout",
          "text": [
            "Epoch 1: Class_accuracy: 97.57%\n",
            "Epoch 2: Class_accuracy: 98.23%\n",
            "Epoch 3: Class_accuracy: 98.48%\n",
            "Epoch 4: Class_accuracy: 98.57%\n",
            "Epoch 5: Class_accuracy: 98.69%\n",
            "Epoch 6: Class_accuracy: 98.76%\n",
            "Epoch 7: Class_accuracy: 98.76%\n",
            "Epoch 8: Class_accuracy: 98.79%\n",
            "Epoch 9: Class_accuracy: 98.81%\n",
            "Epoch 10: Class_accuracy: 98.82%\n",
            "Epoch 11: Class_accuracy: 98.85%\n",
            "Epoch 12: Class_accuracy: 98.82%\n"
          ]
        }
      ]
    },
    {
      "cell_type": "markdown",
      "metadata": {
        "id": "6dsOmtqdieIC"
      },
      "source": [
        "# (Optional) XAI method to explain models"
      ]
    },
    {
      "cell_type": "code",
      "execution_count": 30,
      "metadata": {
        "id": "X0IMIFW8ilPO",
        "colab": {
          "base_uri": "https://localhost:8080/"
        },
        "outputId": "fecbf736-8c65-4002-8561-2d926ed0f93f"
      },
      "outputs": [
        {
          "output_type": "stream",
          "name": "stdout",
          "text": [
            "tf.Tensor(0.1902628, shape=(), dtype=float32)\n"
          ]
        }
      ],
      "source": [
        "# your code start from here for step 13\n",
        "import numpy as np\n",
        "#Test loss function \n",
        "\n",
        "x = tf.random.uniform(shape=[500, 80], dtype=tf.float32)\n",
        "y = tf.reduce_sum(\n",
        "    tf.reshape(x, (500, 40, 2)),\n",
        "    axis=2\n",
        ")\n",
        "#print(y)\n",
        "mean = tf.math.reduce_mean(y, axis=1)\n",
        "#print(mean)\n",
        "var = tf.math.reduce_variance(y, axis=1)\n",
        "#print(var)\n",
        "layer = tf.keras.layers.Normalization(axis= 0, mean=mean, variance=var)\n",
        "z = layer(y)\n",
        "\n",
        "T = 10\n",
        "\n",
        "exp_sum = tf.reduce_sum(\n",
        "    tf.math.exp(tf.tensordot(z, tf.transpose(z), 1) / T),\n",
        "    axis=1)\n",
        "\n",
        "log_avg = tf.reduce_mean(tf.math.log(exp_sum))\n",
        "# n = batch size \n",
        "aux_loss = log_avg - 1/T - np.log(500)\n",
        "print(aux_loss)\n"
      ]
    },
    {
      "cell_type": "code",
      "source": [
        "import numpy as np\n",
        "a = [[  0.21940991, 1.821567], [-0.03301997,  1.5130547]]\n",
        "\n",
        "b = [[  0.21940991, 1.821567], [-0.03301997,  1.5130547]]\n",
        "\n",
        "\n",
        "\n",
        "c = np.dot(a,np.transpose(b))\n",
        "\n",
        "a_t = tf.constant(a)\n",
        "b_t = tf.constant(b)\n",
        "\n",
        "print(c)\n",
        "print(tf.tensordot(a_t, tf.transpose(b_t),1))\n",
        "\n"
      ],
      "metadata": {
        "colab": {
          "base_uri": "https://localhost:8080/"
        },
        "id": "zlLO_VoywdQg",
        "outputId": "03b2e65d-ed6c-4e7c-bc80-c9cce4632950"
      },
      "execution_count": 31,
      "outputs": [
        {
          "output_type": "stream",
          "name": "stdout",
          "text": [
            "[[3.36624704 2.7488856 ]\n",
            " [2.7488856  2.29042484]]\n",
            "tf.Tensor(\n",
            "[[3.3662474 2.7488859]\n",
            " [2.7488859 2.2904248]], shape=(2, 2), dtype=float32)\n"
          ]
        }
      ]
    }
  ],
  "metadata": {
    "accelerator": "GPU",
    "colab": {
      "collapsed_sections": [],
      "provenance": []
    },
    "gpuClass": "standard",
    "kernelspec": {
      "display_name": "Python 3 (ipykernel)",
      "language": "python",
      "name": "python3"
    },
    "language_info": {
      "codemirror_mode": {
        "name": "ipython",
        "version": 3
      },
      "file_extension": ".py",
      "mimetype": "text/x-python",
      "name": "python",
      "nbconvert_exporter": "python",
      "pygments_lexer": "ipython3",
      "version": "3.7.13"
    }
  },
  "nbformat": 4,
  "nbformat_minor": 0
}